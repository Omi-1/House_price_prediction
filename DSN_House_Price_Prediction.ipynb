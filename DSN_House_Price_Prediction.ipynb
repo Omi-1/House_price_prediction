{
 "cells": [
  {
   "cell_type": "markdown",
   "id": "49db8091",
   "metadata": {},
   "source": [
    "Importing of libraries needed"
   ]
  },
  {
   "cell_type": "code",
   "execution_count": 871,
   "id": "8969ecb8",
   "metadata": {},
   "outputs": [],
   "source": [
    "import pandas as pd\n",
    "import numpy as np"
   ]
  },
  {
   "cell_type": "code",
   "execution_count": 872,
   "id": "7fcefd68",
   "metadata": {},
   "outputs": [],
   "source": [
    "import seaborn as sns\n",
    "import matplotlib.pyplot as plt"
   ]
  },
  {
   "cell_type": "code",
   "execution_count": 873,
   "id": "e1504b40",
   "metadata": {},
   "outputs": [],
   "source": [
    "%matplotlib inline"
   ]
  },
  {
   "cell_type": "code",
   "execution_count": 665,
   "id": "383075c5",
   "metadata": {},
   "outputs": [],
   "source": [
    "# Load the training data\n",
    "data = pd.read_csv('Housing_dataset_train.csv')"
   ]
  },
  {
   "cell_type": "code",
   "execution_count": 666,
   "id": "39d10e5b",
   "metadata": {},
   "outputs": [],
   "source": [
    "# Load the testing data\n",
    "data2 = pd.read_csv('Housing_dataset_test.csv')"
   ]
  },
  {
   "cell_type": "markdown",
   "id": "9bd67684",
   "metadata": {},
   "source": [
    " Checking the shape and first few rows of the training dataset"
   ]
  },
  {
   "cell_type": "code",
   "execution_count": 667,
   "id": "fb11fb47",
   "metadata": {},
   "outputs": [
    {
     "data": {
      "text/plain": [
       "(14000, 7)"
      ]
     },
     "execution_count": 667,
     "metadata": {},
     "output_type": "execute_result"
    }
   ],
   "source": [
    "data.shape"
   ]
  },
  {
   "cell_type": "code",
   "execution_count": 668,
   "id": "7610d17f",
   "metadata": {},
   "outputs": [
    {
     "data": {
      "text/html": [
       "<div>\n",
       "<style scoped>\n",
       "    .dataframe tbody tr th:only-of-type {\n",
       "        vertical-align: middle;\n",
       "    }\n",
       "\n",
       "    .dataframe tbody tr th {\n",
       "        vertical-align: top;\n",
       "    }\n",
       "\n",
       "    .dataframe thead th {\n",
       "        text-align: right;\n",
       "    }\n",
       "</style>\n",
       "<table border=\"1\" class=\"dataframe\">\n",
       "  <thead>\n",
       "    <tr style=\"text-align: right;\">\n",
       "      <th></th>\n",
       "      <th>ID</th>\n",
       "      <th>loc</th>\n",
       "      <th>title</th>\n",
       "      <th>bedroom</th>\n",
       "      <th>bathroom</th>\n",
       "      <th>parking_space</th>\n",
       "      <th>price</th>\n",
       "    </tr>\n",
       "  </thead>\n",
       "  <tbody>\n",
       "    <tr>\n",
       "      <th>0</th>\n",
       "      <td>3583</td>\n",
       "      <td>Katsina</td>\n",
       "      <td>Semi-detached duplex</td>\n",
       "      <td>2.0</td>\n",
       "      <td>2.0</td>\n",
       "      <td>1.0</td>\n",
       "      <td>1149999.565</td>\n",
       "    </tr>\n",
       "    <tr>\n",
       "      <th>1</th>\n",
       "      <td>2748</td>\n",
       "      <td>Ondo</td>\n",
       "      <td>Apartment</td>\n",
       "      <td>NaN</td>\n",
       "      <td>2.0</td>\n",
       "      <td>4.0</td>\n",
       "      <td>1672416.689</td>\n",
       "    </tr>\n",
       "    <tr>\n",
       "      <th>2</th>\n",
       "      <td>9261</td>\n",
       "      <td>Ekiti</td>\n",
       "      <td>NaN</td>\n",
       "      <td>7.0</td>\n",
       "      <td>5.0</td>\n",
       "      <td>NaN</td>\n",
       "      <td>3364799.814</td>\n",
       "    </tr>\n",
       "    <tr>\n",
       "      <th>3</th>\n",
       "      <td>2224</td>\n",
       "      <td>Anambra</td>\n",
       "      <td>Detached duplex</td>\n",
       "      <td>5.0</td>\n",
       "      <td>2.0</td>\n",
       "      <td>4.0</td>\n",
       "      <td>2410306.756</td>\n",
       "    </tr>\n",
       "    <tr>\n",
       "      <th>4</th>\n",
       "      <td>10300</td>\n",
       "      <td>Kogi</td>\n",
       "      <td>Terrace duplex</td>\n",
       "      <td>NaN</td>\n",
       "      <td>5.0</td>\n",
       "      <td>6.0</td>\n",
       "      <td>2600700.898</td>\n",
       "    </tr>\n",
       "  </tbody>\n",
       "</table>\n",
       "</div>"
      ],
      "text/plain": [
       "      ID      loc                 title  bedroom  bathroom  parking_space  \\\n",
       "0   3583  Katsina  Semi-detached duplex      2.0       2.0            1.0   \n",
       "1   2748     Ondo             Apartment      NaN       2.0            4.0   \n",
       "2   9261    Ekiti                   NaN      7.0       5.0            NaN   \n",
       "3   2224  Anambra       Detached duplex      5.0       2.0            4.0   \n",
       "4  10300     Kogi        Terrace duplex      NaN       5.0            6.0   \n",
       "\n",
       "         price  \n",
       "0  1149999.565  \n",
       "1  1672416.689  \n",
       "2  3364799.814  \n",
       "3  2410306.756  \n",
       "4  2600700.898  "
      ]
     },
     "execution_count": 668,
     "metadata": {},
     "output_type": "execute_result"
    }
   ],
   "source": [
    "data.head()"
   ]
  },
  {
   "cell_type": "code",
   "execution_count": 669,
   "id": "cce4279e",
   "metadata": {},
   "outputs": [
    {
     "name": "stdout",
     "output_type": "stream",
     "text": [
      "<class 'pandas.core.frame.DataFrame'>\n",
      "RangeIndex: 14000 entries, 0 to 13999\n",
      "Data columns (total 7 columns):\n",
      " #   Column         Non-Null Count  Dtype  \n",
      "---  ------         --------------  -----  \n",
      " 0   ID             14000 non-null  int64  \n",
      " 1   loc            12187 non-null  object \n",
      " 2   title          12278 non-null  object \n",
      " 3   bedroom        12201 non-null  float64\n",
      " 4   bathroom       12195 non-null  float64\n",
      " 5   parking_space  12189 non-null  float64\n",
      " 6   price          14000 non-null  float64\n",
      "dtypes: float64(4), int64(1), object(2)\n",
      "memory usage: 656.3+ KB\n"
     ]
    }
   ],
   "source": [
    "# Check for missing values in the training dataset\n",
    "data.info()"
   ]
  },
  {
   "cell_type": "markdown",
   "id": "be1c85f6",
   "metadata": {},
   "source": [
    "Checking the number of unique values"
   ]
  },
  {
   "cell_type": "code",
   "execution_count": 670,
   "id": "6ba0db7d",
   "metadata": {},
   "outputs": [
    {
     "data": {
      "text/plain": [
       "36"
      ]
     },
     "execution_count": 670,
     "metadata": {},
     "output_type": "execute_result"
    }
   ],
   "source": [
    "data['loc'].nunique()"
   ]
  },
  {
   "cell_type": "code",
   "execution_count": 671,
   "id": "4bb61729",
   "metadata": {},
   "outputs": [
    {
     "data": {
      "text/plain": [
       "array(['Katsina', 'Ondo', 'Ekiti', 'Anambra', 'Kogi', 'Borno', 'Kwara',\n",
       "       'Osun', 'Kaduna', 'Ogun', 'Bayelsa', nan, 'Abia', 'Rivers',\n",
       "       'Taraba', 'Ebonyi', 'Kebbi', 'Enugu', 'Edo', 'Nasarawa', 'Delta',\n",
       "       'Kano', 'Yobe', 'Benue', 'Bauchi', 'Cross River', 'Niger',\n",
       "       'Adamawa', 'Plateau', 'Imo', 'Oyo', 'Zamfara', 'Sokoto', 'Jigawa',\n",
       "       'Gombe', 'Akwa Ibom', 'Lagos'], dtype=object)"
      ]
     },
     "execution_count": 671,
     "metadata": {},
     "output_type": "execute_result"
    }
   ],
   "source": [
    "data['loc'].unique()"
   ]
  },
  {
   "cell_type": "code",
   "execution_count": 516,
   "id": "c2d8773b",
   "metadata": {},
   "outputs": [
    {
     "data": {
      "text/plain": [
       "array(['Semi-detached duplex', 'Apartment', nan, 'Detached duplex',\n",
       "       'Terrace duplex', 'Mansion', 'Bungalow', 'Penthouse', 'Townhouse',\n",
       "       'Flat', 'Cottage'], dtype=object)"
      ]
     },
     "execution_count": 516,
     "metadata": {},
     "output_type": "execute_result"
    }
   ],
   "source": [
    "data['title'].unique()"
   ]
  },
  {
   "cell_type": "markdown",
   "id": "fdd97a56",
   "metadata": {},
   "source": [
    "# Handling Missing Values"
   ]
  },
  {
   "cell_type": "markdown",
   "id": "7823180b",
   "metadata": {},
   "source": [
    "Grouping by location and getting the mean of each feature"
   ]
  },
  {
   "cell_type": "code",
   "execution_count": 674,
   "id": "744cbbeb",
   "metadata": {
    "scrolled": false
   },
   "outputs": [
    {
     "data": {
      "text/html": [
       "<div>\n",
       "<style scoped>\n",
       "    .dataframe tbody tr th:only-of-type {\n",
       "        vertical-align: middle;\n",
       "    }\n",
       "\n",
       "    .dataframe tbody tr th {\n",
       "        vertical-align: top;\n",
       "    }\n",
       "\n",
       "    .dataframe thead th {\n",
       "        text-align: right;\n",
       "    }\n",
       "</style>\n",
       "<table border=\"1\" class=\"dataframe\">\n",
       "  <thead>\n",
       "    <tr style=\"text-align: right;\">\n",
       "      <th></th>\n",
       "      <th>ID</th>\n",
       "      <th>bedroom</th>\n",
       "      <th>bathroom</th>\n",
       "      <th>parking_space</th>\n",
       "      <th>price</th>\n",
       "    </tr>\n",
       "    <tr>\n",
       "      <th>loc</th>\n",
       "      <th></th>\n",
       "      <th></th>\n",
       "      <th></th>\n",
       "      <th></th>\n",
       "      <th></th>\n",
       "    </tr>\n",
       "  </thead>\n",
       "  <tbody>\n",
       "    <tr>\n",
       "      <th>Abia</th>\n",
       "      <td>5055.266026</td>\n",
       "      <td>4.131387</td>\n",
       "      <td>3.137931</td>\n",
       "      <td>3.373134</td>\n",
       "      <td>1.717083e+06</td>\n",
       "    </tr>\n",
       "    <tr>\n",
       "      <th>Adamawa</th>\n",
       "      <td>4405.217009</td>\n",
       "      <td>4.269625</td>\n",
       "      <td>3.020408</td>\n",
       "      <td>3.087108</td>\n",
       "      <td>1.905287e+06</td>\n",
       "    </tr>\n",
       "    <tr>\n",
       "      <th>Akwa Ibom</th>\n",
       "      <td>4781.866261</td>\n",
       "      <td>4.275261</td>\n",
       "      <td>3.090592</td>\n",
       "      <td>3.142349</td>\n",
       "      <td>2.725454e+06</td>\n",
       "    </tr>\n",
       "    <tr>\n",
       "      <th>Anambra</th>\n",
       "      <td>4951.118457</td>\n",
       "      <td>4.078689</td>\n",
       "      <td>3.058065</td>\n",
       "      <td>3.279365</td>\n",
       "      <td>2.337230e+06</td>\n",
       "    </tr>\n",
       "    <tr>\n",
       "      <th>Bauchi</th>\n",
       "      <td>4831.602339</td>\n",
       "      <td>4.435714</td>\n",
       "      <td>3.359060</td>\n",
       "      <td>3.130872</td>\n",
       "      <td>1.772961e+06</td>\n",
       "    </tr>\n",
       "    <tr>\n",
       "      <th>Bayelsa</th>\n",
       "      <td>4946.014706</td>\n",
       "      <td>4.429530</td>\n",
       "      <td>3.231293</td>\n",
       "      <td>3.044068</td>\n",
       "      <td>3.112322e+06</td>\n",
       "    </tr>\n",
       "    <tr>\n",
       "      <th>Benue</th>\n",
       "      <td>5062.014085</td>\n",
       "      <td>4.216828</td>\n",
       "      <td>3.268212</td>\n",
       "      <td>3.195364</td>\n",
       "      <td>1.920461e+06</td>\n",
       "    </tr>\n",
       "    <tr>\n",
       "      <th>Borno</th>\n",
       "      <td>5075.663818</td>\n",
       "      <td>4.391892</td>\n",
       "      <td>3.131313</td>\n",
       "      <td>3.105263</td>\n",
       "      <td>1.735704e+06</td>\n",
       "    </tr>\n",
       "    <tr>\n",
       "      <th>Cross River</th>\n",
       "      <td>4874.942693</td>\n",
       "      <td>4.496667</td>\n",
       "      <td>3.124567</td>\n",
       "      <td>3.118644</td>\n",
       "      <td>2.507765e+06</td>\n",
       "    </tr>\n",
       "    <tr>\n",
       "      <th>Delta</th>\n",
       "      <td>4699.012308</td>\n",
       "      <td>4.197802</td>\n",
       "      <td>3.119718</td>\n",
       "      <td>3.135714</td>\n",
       "      <td>2.712493e+06</td>\n",
       "    </tr>\n",
       "    <tr>\n",
       "      <th>Ebonyi</th>\n",
       "      <td>4429.277457</td>\n",
       "      <td>4.003356</td>\n",
       "      <td>2.945205</td>\n",
       "      <td>3.062500</td>\n",
       "      <td>1.635850e+06</td>\n",
       "    </tr>\n",
       "    <tr>\n",
       "      <th>Edo</th>\n",
       "      <td>5199.976821</td>\n",
       "      <td>4.351351</td>\n",
       "      <td>3.153846</td>\n",
       "      <td>3.386364</td>\n",
       "      <td>2.310452e+06</td>\n",
       "    </tr>\n",
       "    <tr>\n",
       "      <th>Ekiti</th>\n",
       "      <td>5074.547619</td>\n",
       "      <td>4.588629</td>\n",
       "      <td>3.063604</td>\n",
       "      <td>3.124555</td>\n",
       "      <td>2.109220e+06</td>\n",
       "    </tr>\n",
       "    <tr>\n",
       "      <th>Enugu</th>\n",
       "      <td>5332.651235</td>\n",
       "      <td>4.210145</td>\n",
       "      <td>3.461255</td>\n",
       "      <td>3.315412</td>\n",
       "      <td>2.272887e+06</td>\n",
       "    </tr>\n",
       "    <tr>\n",
       "      <th>Gombe</th>\n",
       "      <td>4430.145773</td>\n",
       "      <td>4.324232</td>\n",
       "      <td>3.003300</td>\n",
       "      <td>3.229730</td>\n",
       "      <td>1.860851e+06</td>\n",
       "    </tr>\n",
       "    <tr>\n",
       "      <th>Imo</th>\n",
       "      <td>4673.002874</td>\n",
       "      <td>3.996575</td>\n",
       "      <td>3.141914</td>\n",
       "      <td>3.215232</td>\n",
       "      <td>2.067489e+06</td>\n",
       "    </tr>\n",
       "    <tr>\n",
       "      <th>Jigawa</th>\n",
       "      <td>4942.035608</td>\n",
       "      <td>4.291096</td>\n",
       "      <td>3.190311</td>\n",
       "      <td>3.042705</td>\n",
       "      <td>1.735867e+06</td>\n",
       "    </tr>\n",
       "    <tr>\n",
       "      <th>Kaduna</th>\n",
       "      <td>4839.864865</td>\n",
       "      <td>4.137931</td>\n",
       "      <td>3.006211</td>\n",
       "      <td>3.127329</td>\n",
       "      <td>1.846993e+06</td>\n",
       "    </tr>\n",
       "    <tr>\n",
       "      <th>Kano</th>\n",
       "      <td>5120.173789</td>\n",
       "      <td>4.358306</td>\n",
       "      <td>3.254839</td>\n",
       "      <td>3.078231</td>\n",
       "      <td>2.081931e+06</td>\n",
       "    </tr>\n",
       "    <tr>\n",
       "      <th>Katsina</th>\n",
       "      <td>5084.710145</td>\n",
       "      <td>4.489655</td>\n",
       "      <td>3.262069</td>\n",
       "      <td>3.148148</td>\n",
       "      <td>1.947589e+06</td>\n",
       "    </tr>\n",
       "    <tr>\n",
       "      <th>Kebbi</th>\n",
       "      <td>4813.271676</td>\n",
       "      <td>4.450512</td>\n",
       "      <td>3.096886</td>\n",
       "      <td>3.172757</td>\n",
       "      <td>1.616372e+06</td>\n",
       "    </tr>\n",
       "    <tr>\n",
       "      <th>Kogi</th>\n",
       "      <td>4702.323988</td>\n",
       "      <td>4.365672</td>\n",
       "      <td>2.992806</td>\n",
       "      <td>3.025641</td>\n",
       "      <td>1.763416e+06</td>\n",
       "    </tr>\n",
       "    <tr>\n",
       "      <th>Kwara</th>\n",
       "      <td>4882.243243</td>\n",
       "      <td>4.357143</td>\n",
       "      <td>3.093426</td>\n",
       "      <td>2.963899</td>\n",
       "      <td>1.903424e+06</td>\n",
       "    </tr>\n",
       "    <tr>\n",
       "      <th>Lagos</th>\n",
       "      <td>4885.307927</td>\n",
       "      <td>4.320557</td>\n",
       "      <td>3.090301</td>\n",
       "      <td>3.042857</td>\n",
       "      <td>4.210546e+06</td>\n",
       "    </tr>\n",
       "    <tr>\n",
       "      <th>Nasarawa</th>\n",
       "      <td>4737.756447</td>\n",
       "      <td>4.210000</td>\n",
       "      <td>3.121212</td>\n",
       "      <td>3.293333</td>\n",
       "      <td>2.061764e+06</td>\n",
       "    </tr>\n",
       "    <tr>\n",
       "      <th>Niger</th>\n",
       "      <td>4994.663636</td>\n",
       "      <td>4.282528</td>\n",
       "      <td>3.189655</td>\n",
       "      <td>3.187500</td>\n",
       "      <td>1.885325e+06</td>\n",
       "    </tr>\n",
       "    <tr>\n",
       "      <th>Ogun</th>\n",
       "      <td>4875.284058</td>\n",
       "      <td>4.366667</td>\n",
       "      <td>3.031250</td>\n",
       "      <td>3.135889</td>\n",
       "      <td>2.564020e+06</td>\n",
       "    </tr>\n",
       "    <tr>\n",
       "      <th>Ondo</th>\n",
       "      <td>4755.183140</td>\n",
       "      <td>4.213793</td>\n",
       "      <td>2.951890</td>\n",
       "      <td>3.078498</td>\n",
       "      <td>2.277494e+06</td>\n",
       "    </tr>\n",
       "    <tr>\n",
       "      <th>Osun</th>\n",
       "      <td>5083.420118</td>\n",
       "      <td>4.508711</td>\n",
       "      <td>3.133094</td>\n",
       "      <td>3.287197</td>\n",
       "      <td>2.180570e+06</td>\n",
       "    </tr>\n",
       "    <tr>\n",
       "      <th>Oyo</th>\n",
       "      <td>4707.375367</td>\n",
       "      <td>4.435811</td>\n",
       "      <td>3.128114</td>\n",
       "      <td>3.324324</td>\n",
       "      <td>2.293159e+06</td>\n",
       "    </tr>\n",
       "    <tr>\n",
       "      <th>Plateau</th>\n",
       "      <td>5201.920118</td>\n",
       "      <td>4.364583</td>\n",
       "      <td>3.083045</td>\n",
       "      <td>3.261017</td>\n",
       "      <td>1.942316e+06</td>\n",
       "    </tr>\n",
       "    <tr>\n",
       "      <th>Rivers</th>\n",
       "      <td>4886.061920</td>\n",
       "      <td>4.293706</td>\n",
       "      <td>3.240143</td>\n",
       "      <td>3.196364</td>\n",
       "      <td>2.957098e+06</td>\n",
       "    </tr>\n",
       "    <tr>\n",
       "      <th>Sokoto</th>\n",
       "      <td>5073.720859</td>\n",
       "      <td>4.203448</td>\n",
       "      <td>3.211111</td>\n",
       "      <td>3.170909</td>\n",
       "      <td>1.681016e+06</td>\n",
       "    </tr>\n",
       "    <tr>\n",
       "      <th>Taraba</th>\n",
       "      <td>4795.965079</td>\n",
       "      <td>4.438202</td>\n",
       "      <td>3.128676</td>\n",
       "      <td>3.131387</td>\n",
       "      <td>1.855306e+06</td>\n",
       "    </tr>\n",
       "    <tr>\n",
       "      <th>Yobe</th>\n",
       "      <td>4608.980170</td>\n",
       "      <td>4.250000</td>\n",
       "      <td>3.016340</td>\n",
       "      <td>3.162252</td>\n",
       "      <td>1.747938e+06</td>\n",
       "    </tr>\n",
       "    <tr>\n",
       "      <th>Zamfara</th>\n",
       "      <td>4574.456897</td>\n",
       "      <td>4.270270</td>\n",
       "      <td>3.312704</td>\n",
       "      <td>3.104730</td>\n",
       "      <td>1.689541e+06</td>\n",
       "    </tr>\n",
       "  </tbody>\n",
       "</table>\n",
       "</div>"
      ],
      "text/plain": [
       "                      ID   bedroom  bathroom  parking_space         price\n",
       "loc                                                                      \n",
       "Abia         5055.266026  4.131387  3.137931       3.373134  1.717083e+06\n",
       "Adamawa      4405.217009  4.269625  3.020408       3.087108  1.905287e+06\n",
       "Akwa Ibom    4781.866261  4.275261  3.090592       3.142349  2.725454e+06\n",
       "Anambra      4951.118457  4.078689  3.058065       3.279365  2.337230e+06\n",
       "Bauchi       4831.602339  4.435714  3.359060       3.130872  1.772961e+06\n",
       "Bayelsa      4946.014706  4.429530  3.231293       3.044068  3.112322e+06\n",
       "Benue        5062.014085  4.216828  3.268212       3.195364  1.920461e+06\n",
       "Borno        5075.663818  4.391892  3.131313       3.105263  1.735704e+06\n",
       "Cross River  4874.942693  4.496667  3.124567       3.118644  2.507765e+06\n",
       "Delta        4699.012308  4.197802  3.119718       3.135714  2.712493e+06\n",
       "Ebonyi       4429.277457  4.003356  2.945205       3.062500  1.635850e+06\n",
       "Edo          5199.976821  4.351351  3.153846       3.386364  2.310452e+06\n",
       "Ekiti        5074.547619  4.588629  3.063604       3.124555  2.109220e+06\n",
       "Enugu        5332.651235  4.210145  3.461255       3.315412  2.272887e+06\n",
       "Gombe        4430.145773  4.324232  3.003300       3.229730  1.860851e+06\n",
       "Imo          4673.002874  3.996575  3.141914       3.215232  2.067489e+06\n",
       "Jigawa       4942.035608  4.291096  3.190311       3.042705  1.735867e+06\n",
       "Kaduna       4839.864865  4.137931  3.006211       3.127329  1.846993e+06\n",
       "Kano         5120.173789  4.358306  3.254839       3.078231  2.081931e+06\n",
       "Katsina      5084.710145  4.489655  3.262069       3.148148  1.947589e+06\n",
       "Kebbi        4813.271676  4.450512  3.096886       3.172757  1.616372e+06\n",
       "Kogi         4702.323988  4.365672  2.992806       3.025641  1.763416e+06\n",
       "Kwara        4882.243243  4.357143  3.093426       2.963899  1.903424e+06\n",
       "Lagos        4885.307927  4.320557  3.090301       3.042857  4.210546e+06\n",
       "Nasarawa     4737.756447  4.210000  3.121212       3.293333  2.061764e+06\n",
       "Niger        4994.663636  4.282528  3.189655       3.187500  1.885325e+06\n",
       "Ogun         4875.284058  4.366667  3.031250       3.135889  2.564020e+06\n",
       "Ondo         4755.183140  4.213793  2.951890       3.078498  2.277494e+06\n",
       "Osun         5083.420118  4.508711  3.133094       3.287197  2.180570e+06\n",
       "Oyo          4707.375367  4.435811  3.128114       3.324324  2.293159e+06\n",
       "Plateau      5201.920118  4.364583  3.083045       3.261017  1.942316e+06\n",
       "Rivers       4886.061920  4.293706  3.240143       3.196364  2.957098e+06\n",
       "Sokoto       5073.720859  4.203448  3.211111       3.170909  1.681016e+06\n",
       "Taraba       4795.965079  4.438202  3.128676       3.131387  1.855306e+06\n",
       "Yobe         4608.980170  4.250000  3.016340       3.162252  1.747938e+06\n",
       "Zamfara      4574.456897  4.270270  3.312704       3.104730  1.689541e+06"
      ]
     },
     "execution_count": 674,
     "metadata": {},
     "output_type": "execute_result"
    }
   ],
   "source": [
    "data.groupby('loc').mean()"
   ]
  },
  {
   "cell_type": "code",
   "execution_count": 675,
   "id": "9b186534",
   "metadata": {},
   "outputs": [
    {
     "data": {
      "text/html": [
       "<div>\n",
       "<style scoped>\n",
       "    .dataframe tbody tr th:only-of-type {\n",
       "        vertical-align: middle;\n",
       "    }\n",
       "\n",
       "    .dataframe tbody tr th {\n",
       "        vertical-align: top;\n",
       "    }\n",
       "\n",
       "    .dataframe thead th {\n",
       "        text-align: right;\n",
       "    }\n",
       "</style>\n",
       "<table border=\"1\" class=\"dataframe\">\n",
       "  <thead>\n",
       "    <tr style=\"text-align: right;\">\n",
       "      <th></th>\n",
       "      <th>ID</th>\n",
       "      <th>bedroom</th>\n",
       "      <th>bathroom</th>\n",
       "      <th>parking_space</th>\n",
       "      <th>price</th>\n",
       "    </tr>\n",
       "    <tr>\n",
       "      <th>title</th>\n",
       "      <th></th>\n",
       "      <th></th>\n",
       "      <th></th>\n",
       "      <th></th>\n",
       "      <th></th>\n",
       "    </tr>\n",
       "  </thead>\n",
       "  <tbody>\n",
       "    <tr>\n",
       "      <th>Apartment</th>\n",
       "      <td>4940.278738</td>\n",
       "      <td>4.344219</td>\n",
       "      <td>3.109862</td>\n",
       "      <td>3.285714</td>\n",
       "      <td>1.567004e+06</td>\n",
       "    </tr>\n",
       "    <tr>\n",
       "      <th>Bungalow</th>\n",
       "      <td>5005.518948</td>\n",
       "      <td>4.402852</td>\n",
       "      <td>3.394664</td>\n",
       "      <td>3.192619</td>\n",
       "      <td>1.733845e+06</td>\n",
       "    </tr>\n",
       "    <tr>\n",
       "      <th>Cottage</th>\n",
       "      <td>1767.420000</td>\n",
       "      <td>2.905512</td>\n",
       "      <td>1.510363</td>\n",
       "      <td>2.542714</td>\n",
       "      <td>1.307817e+06</td>\n",
       "    </tr>\n",
       "    <tr>\n",
       "      <th>Detached duplex</th>\n",
       "      <td>5002.801067</td>\n",
       "      <td>4.327840</td>\n",
       "      <td>3.232270</td>\n",
       "      <td>3.230906</td>\n",
       "      <td>2.205883e+06</td>\n",
       "    </tr>\n",
       "    <tr>\n",
       "      <th>Flat</th>\n",
       "      <td>4852.685860</td>\n",
       "      <td>4.378877</td>\n",
       "      <td>3.188295</td>\n",
       "      <td>3.146486</td>\n",
       "      <td>1.721875e+06</td>\n",
       "    </tr>\n",
       "    <tr>\n",
       "      <th>Mansion</th>\n",
       "      <td>4882.914523</td>\n",
       "      <td>4.333929</td>\n",
       "      <td>3.197880</td>\n",
       "      <td>3.115114</td>\n",
       "      <td>3.725768e+06</td>\n",
       "    </tr>\n",
       "    <tr>\n",
       "      <th>Penthouse</th>\n",
       "      <td>4945.607963</td>\n",
       "      <td>4.342982</td>\n",
       "      <td>2.986667</td>\n",
       "      <td>3.225177</td>\n",
       "      <td>2.628945e+06</td>\n",
       "    </tr>\n",
       "    <tr>\n",
       "      <th>Semi-detached duplex</th>\n",
       "      <td>4980.161663</td>\n",
       "      <td>4.414903</td>\n",
       "      <td>3.194770</td>\n",
       "      <td>3.202912</td>\n",
       "      <td>1.918468e+06</td>\n",
       "    </tr>\n",
       "    <tr>\n",
       "      <th>Terrace duplex</th>\n",
       "      <td>5152.398894</td>\n",
       "      <td>4.340639</td>\n",
       "      <td>3.292616</td>\n",
       "      <td>3.178505</td>\n",
       "      <td>1.927270e+06</td>\n",
       "    </tr>\n",
       "    <tr>\n",
       "      <th>Townhouse</th>\n",
       "      <td>5084.376036</td>\n",
       "      <td>4.298759</td>\n",
       "      <td>3.165789</td>\n",
       "      <td>3.175454</td>\n",
       "      <td>2.056125e+06</td>\n",
       "    </tr>\n",
       "  </tbody>\n",
       "</table>\n",
       "</div>"
      ],
      "text/plain": [
       "                               ID   bedroom  bathroom  parking_space  \\\n",
       "title                                                                  \n",
       "Apartment             4940.278738  4.344219  3.109862       3.285714   \n",
       "Bungalow              5005.518948  4.402852  3.394664       3.192619   \n",
       "Cottage               1767.420000  2.905512  1.510363       2.542714   \n",
       "Detached duplex       5002.801067  4.327840  3.232270       3.230906   \n",
       "Flat                  4852.685860  4.378877  3.188295       3.146486   \n",
       "Mansion               4882.914523  4.333929  3.197880       3.115114   \n",
       "Penthouse             4945.607963  4.342982  2.986667       3.225177   \n",
       "Semi-detached duplex  4980.161663  4.414903  3.194770       3.202912   \n",
       "Terrace duplex        5152.398894  4.340639  3.292616       3.178505   \n",
       "Townhouse             5084.376036  4.298759  3.165789       3.175454   \n",
       "\n",
       "                             price  \n",
       "title                               \n",
       "Apartment             1.567004e+06  \n",
       "Bungalow              1.733845e+06  \n",
       "Cottage               1.307817e+06  \n",
       "Detached duplex       2.205883e+06  \n",
       "Flat                  1.721875e+06  \n",
       "Mansion               3.725768e+06  \n",
       "Penthouse             2.628945e+06  \n",
       "Semi-detached duplex  1.918468e+06  \n",
       "Terrace duplex        1.927270e+06  \n",
       "Townhouse             2.056125e+06  "
      ]
     },
     "execution_count": 675,
     "metadata": {},
     "output_type": "execute_result"
    }
   ],
   "source": [
    "data.groupby('title').mean()"
   ]
  },
  {
   "cell_type": "markdown",
   "id": "c2fa0195",
   "metadata": {},
   "source": [
    "## for categorical values "
   ]
  },
  {
   "cell_type": "code",
   "execution_count": 677,
   "id": "f1ca86a6",
   "metadata": {},
   "outputs": [],
   "source": [
    "#for generating random numbers\n",
    "import random\n",
    "# Creating a new list with that contains all the uniue values in the title column\n",
    "b = list(data.title.unique())\n",
    "\n",
    "#removes the value at inedex 2\n",
    "b.remove(b[2]) #  removing the nan \n",
    "\n",
    "# Creating a new list with that contains all the uniue values in the loc column\n",
    "a = list(data['loc'].unique())\n",
    "\n",
    "#To randomly select any element from list a\n",
    "random.choice(a)\n",
    "\n",
    "\n",
    "#removes the value at index 11 i.e the nan values \n",
    "a.remove(a[11])"
   ]
  },
  {
   "cell_type": "code",
   "execution_count": 681,
   "id": "d6c4eb6a",
   "metadata": {},
   "outputs": [],
   "source": [
    "\"\"\"the location function is designed to handle missing or null location values by randomly selecting a new \n",
    "location from a list of valid locations (a). If the input location is not null, it returns the original location. \"\"\"\n",
    "def locate(location):\n",
    "    if pd.isnull(location):\n",
    "        new =  random.choice(a)\n",
    "    else:\n",
    "        new = location\n",
    "    return new "
   ]
  },
  {
   "cell_type": "code",
   "execution_count": 682,
   "id": "9d2be5b5",
   "metadata": {},
   "outputs": [],
   "source": [
    "\"\"\"created the title function to handle missing or null location values by randomly selecting a new \n",
    "location from a list of valid locations (b). If the input title is not null, it returns the original location. \"\"\"\n",
    "\n",
    "def Title(title):\n",
    "    if pd.isnull(title):\n",
    "        new =  random.choice(b)\n",
    "    else:\n",
    "        new = title\n",
    "    return new "
   ]
  },
  {
   "cell_type": "code",
   "execution_count": 683,
   "id": "30b8381b",
   "metadata": {},
   "outputs": [],
   "source": [
    "# Created to two new columns based of the dataframe containing tranformed values of the title and loc column\n",
    "data['location'] = data['loc'].apply(locate)\n",
    "data['Title'] = data['title'].apply(Title)"
   ]
  },
  {
   "cell_type": "markdown",
   "id": "d18943d7",
   "metadata": {},
   "source": [
    "## for numeric Values \n",
    "* bedroom\n",
    "* bathroom\n",
    "* parking space\n"
   ]
  },
  {
   "cell_type": "markdown",
   "id": "010aef8f",
   "metadata": {},
   "source": [
    "### bedroom "
   ]
  },
  {
   "cell_type": "code",
   "execution_count": 686,
   "id": "24d7fca8",
   "metadata": {},
   "outputs": [],
   "source": [
    "# To calculate the mean of bedroom column\n",
    "column_mean = data['bedroom'].mean()\n",
    "\n",
    "# To round up the mean value to a whole number\n",
    "Rnd = round(column_mean)"
   ]
  },
  {
   "cell_type": "code",
   "execution_count": 687,
   "id": "53fb179a",
   "metadata": {},
   "outputs": [],
   "source": [
    "# Replacing Null values with corresponding rounded up column mean\n",
    "data['bedroom'].fillna(Rnd, inplace=True)"
   ]
  },
  {
   "cell_type": "markdown",
   "id": "6ddad05b",
   "metadata": {},
   "source": [
    "### parking space "
   ]
  },
  {
   "cell_type": "code",
   "execution_count": 688,
   "id": "ff5f35cf",
   "metadata": {},
   "outputs": [],
   "source": [
    "# To calculate the mean of parking space column\n",
    "column_mean2 = data['parking_space'].mean()"
   ]
  },
  {
   "cell_type": "code",
   "execution_count": 689,
   "id": "3bbe0d65",
   "metadata": {},
   "outputs": [],
   "source": [
    "# To round up the mean value to a whole number\n",
    "Rnd2= round(column_mean)"
   ]
  },
  {
   "cell_type": "code",
   "execution_count": 690,
   "id": "21abd724",
   "metadata": {},
   "outputs": [],
   "source": [
    "# Replacing Null values with corresponding rounded up column mean\n",
    "data['parking_space'].fillna(Rnd, inplace=True)"
   ]
  },
  {
   "cell_type": "markdown",
   "id": "5c9d84fd",
   "metadata": {},
   "source": [
    "### bathroom"
   ]
  },
  {
   "cell_type": "code",
   "execution_count": 691,
   "id": "c1e31f6f",
   "metadata": {},
   "outputs": [],
   "source": [
    "# To calculate the mean of bathroom column\n",
    "column_mean3 = data['bathroom'].mean()\n",
    "# To round up mean value\n",
    "Rnd3= round(column_mean3)"
   ]
  },
  {
   "cell_type": "code",
   "execution_count": 692,
   "id": "5f628dae",
   "metadata": {},
   "outputs": [],
   "source": [
    "# Replacing Null values with corresponding rounded up column mean\n",
    "data['bathroom'].fillna(Rnd, inplace=True)"
   ]
  },
  {
   "cell_type": "code",
   "execution_count": 693,
   "id": "b0faf3df",
   "metadata": {},
   "outputs": [],
   "source": [
    "# To check for duplicate rows\n",
    "duplicate_rows= data.duplicated()"
   ]
  },
  {
   "cell_type": "code",
   "execution_count": 694,
   "id": "ae951574",
   "metadata": {},
   "outputs": [
    {
     "data": {
      "text/plain": [
       "0"
      ]
     },
     "execution_count": 694,
     "metadata": {},
     "output_type": "execute_result"
    }
   ],
   "source": [
    "# To count number of duplicate rows in the training dataset,this is showing there in none.\n",
    "duplicate_rows.sum()"
   ]
  },
  {
   "cell_type": "code",
   "execution_count": 695,
   "id": "63128f0a",
   "metadata": {},
   "outputs": [],
   "source": [
    "# To check for duplicate rows in the testing dataset.\n",
    "duplicate_rows= data2.duplicated()"
   ]
  },
  {
   "cell_type": "code",
   "execution_count": 696,
   "id": "3347ce3a",
   "metadata": {},
   "outputs": [
    {
     "data": {
      "text/plain": [
       "0"
      ]
     },
     "execution_count": 696,
     "metadata": {},
     "output_type": "execute_result"
    }
   ],
   "source": [
    "# To count number of duplicate rows in the testing dataset,this is showing there in none.\n",
    "duplicate_rows.sum()"
   ]
  },
  {
   "cell_type": "markdown",
   "id": "aa6e66ce",
   "metadata": {},
   "source": [
    "# After handling the missing values, filling all  null values of numerical data with the mean of the respective columns and missing text data with random."
   ]
  },
  {
   "cell_type": "code",
   "execution_count": 697,
   "id": "fe385910",
   "metadata": {},
   "outputs": [
    {
     "name": "stdout",
     "output_type": "stream",
     "text": [
      "<class 'pandas.core.frame.DataFrame'>\n",
      "RangeIndex: 14000 entries, 0 to 13999\n",
      "Data columns (total 9 columns):\n",
      " #   Column         Non-Null Count  Dtype  \n",
      "---  ------         --------------  -----  \n",
      " 0   ID             14000 non-null  int64  \n",
      " 1   loc            12187 non-null  object \n",
      " 2   title          12278 non-null  object \n",
      " 3   bedroom        14000 non-null  float64\n",
      " 4   bathroom       14000 non-null  float64\n",
      " 5   parking_space  14000 non-null  float64\n",
      " 6   price          14000 non-null  float64\n",
      " 7   location       14000 non-null  object \n",
      " 8   Title          14000 non-null  object \n",
      "dtypes: float64(4), int64(1), object(4)\n",
      "memory usage: 765.7+ KB\n"
     ]
    }
   ],
   "source": [
    "# There are no Null values in the data set anymore\n",
    "data.info()"
   ]
  },
  {
   "cell_type": "markdown",
   "id": "a66d4b38",
   "metadata": {},
   "source": [
    "# Exploratory Data Analysis"
   ]
  },
  {
   "cell_type": "code",
   "execution_count": 698,
   "id": "59043a86",
   "metadata": {},
   "outputs": [
    {
     "data": {
      "text/html": [
       "<div>\n",
       "<style scoped>\n",
       "    .dataframe tbody tr th:only-of-type {\n",
       "        vertical-align: middle;\n",
       "    }\n",
       "\n",
       "    .dataframe tbody tr th {\n",
       "        vertical-align: top;\n",
       "    }\n",
       "\n",
       "    .dataframe thead th {\n",
       "        text-align: right;\n",
       "    }\n",
       "</style>\n",
       "<table border=\"1\" class=\"dataframe\">\n",
       "  <thead>\n",
       "    <tr style=\"text-align: right;\">\n",
       "      <th></th>\n",
       "      <th>ID</th>\n",
       "      <th>bedroom</th>\n",
       "      <th>bathroom</th>\n",
       "      <th>parking_space</th>\n",
       "      <th>price</th>\n",
       "    </tr>\n",
       "  </thead>\n",
       "  <tbody>\n",
       "    <tr>\n",
       "      <th>count</th>\n",
       "      <td>14000.000000</td>\n",
       "      <td>14000.000000</td>\n",
       "      <td>14000.000000</td>\n",
       "      <td>14000.000000</td>\n",
       "      <td>1.400000e+04</td>\n",
       "    </tr>\n",
       "    <tr>\n",
       "      <th>mean</th>\n",
       "      <td>4862.700357</td>\n",
       "      <td>4.268571</td>\n",
       "      <td>3.245857</td>\n",
       "      <td>3.277214</td>\n",
       "      <td>2.138082e+06</td>\n",
       "    </tr>\n",
       "    <tr>\n",
       "      <th>std</th>\n",
       "      <td>3818.348214</td>\n",
       "      <td>2.281249</td>\n",
       "      <td>1.922191</td>\n",
       "      <td>1.518162</td>\n",
       "      <td>1.083057e+06</td>\n",
       "    </tr>\n",
       "    <tr>\n",
       "      <th>min</th>\n",
       "      <td>0.000000</td>\n",
       "      <td>1.000000</td>\n",
       "      <td>1.000000</td>\n",
       "      <td>1.000000</td>\n",
       "      <td>4.319673e+05</td>\n",
       "    </tr>\n",
       "    <tr>\n",
       "      <th>25%</th>\n",
       "      <td>1672.750000</td>\n",
       "      <td>3.000000</td>\n",
       "      <td>2.000000</td>\n",
       "      <td>2.000000</td>\n",
       "      <td>1.393990e+06</td>\n",
       "    </tr>\n",
       "    <tr>\n",
       "      <th>50%</th>\n",
       "      <td>3527.000000</td>\n",
       "      <td>4.000000</td>\n",
       "      <td>3.000000</td>\n",
       "      <td>3.000000</td>\n",
       "      <td>1.895223e+06</td>\n",
       "    </tr>\n",
       "    <tr>\n",
       "      <th>75%</th>\n",
       "      <td>8011.250000</td>\n",
       "      <td>6.000000</td>\n",
       "      <td>4.000000</td>\n",
       "      <td>4.000000</td>\n",
       "      <td>2.586699e+06</td>\n",
       "    </tr>\n",
       "    <tr>\n",
       "      <th>max</th>\n",
       "      <td>12999.000000</td>\n",
       "      <td>9.000000</td>\n",
       "      <td>7.000000</td>\n",
       "      <td>6.000000</td>\n",
       "      <td>1.656849e+07</td>\n",
       "    </tr>\n",
       "  </tbody>\n",
       "</table>\n",
       "</div>"
      ],
      "text/plain": [
       "                 ID       bedroom      bathroom  parking_space         price\n",
       "count  14000.000000  14000.000000  14000.000000   14000.000000  1.400000e+04\n",
       "mean    4862.700357      4.268571      3.245857       3.277214  2.138082e+06\n",
       "std     3818.348214      2.281249      1.922191       1.518162  1.083057e+06\n",
       "min        0.000000      1.000000      1.000000       1.000000  4.319673e+05\n",
       "25%     1672.750000      3.000000      2.000000       2.000000  1.393990e+06\n",
       "50%     3527.000000      4.000000      3.000000       3.000000  1.895223e+06\n",
       "75%     8011.250000      6.000000      4.000000       4.000000  2.586699e+06\n",
       "max    12999.000000      9.000000      7.000000       6.000000  1.656849e+07"
      ]
     },
     "execution_count": 698,
     "metadata": {},
     "output_type": "execute_result"
    }
   ],
   "source": [
    "#This shows a wide range of satitical information\n",
    "data.describe()"
   ]
  },
  {
   "cell_type": "code",
   "execution_count": 701,
   "id": "6497f1fc",
   "metadata": {},
   "outputs": [],
   "source": [
    "## comparing the \"title\" column with null values with the \"Title\" comumn withut null values  "
   ]
  },
  {
   "cell_type": "code",
   "execution_count": 702,
   "id": "df63d9f9",
   "metadata": {},
   "outputs": [
    {
     "data": {
      "image/png": "[encoded data removed]",
      "text/plain": [
       "<Figure size 864x432 with 1 Axes>"
      ]
     },
     "metadata": {
      "needs_background": "light"
     },
     "output_type": "display_data"
    }
   ],
   "source": [
    "'''created the count plot to display the number of occurrences of each unique value in the 'title'\n",
    "column as bars in the plot.'''\n",
    "plt.figure(figsize=(12,6))\n",
    "sns.countplot(x = data['Title'])\n",
    "plt.tight_layout()\n",
    "plt.show()"
   ]
  },
  {
   "cell_type": "code",
   "execution_count": 703,
   "id": "db8dcfc4",
   "metadata": {},
   "outputs": [
    {
     "data": {
      "image/png": "[encoded data removed]",
      "text/plain": [
       "<Figure size 864x432 with 1 Axes>"
      ]
     },
     "metadata": {
      "needs_background": "light"
     },
     "output_type": "display_data"
    }
   ],
   "source": [
    "'''created the count plot to display the number of occurrences of each unique value in the 'loc'\n",
    "column as bars in the plot.'''\n",
    "plt.figure(figsize=(12,6))\n",
    "sns.countplot(x = data['title'])\n",
    "plt.tight_layout()\n",
    "plt.show()"
   ]
  },
  {
   "cell_type": "markdown",
   "id": "5fb0f4c2",
   "metadata": {},
   "source": [
    "since the plot llook almost the same, them the decision to fill in missing vlaues wih random values "
   ]
  },
  {
   "cell_type": "code",
   "execution_count": 704,
   "id": "f9896f77",
   "metadata": {},
   "outputs": [],
   "source": [
    "#created a new dataframe \n",
    "new_data = data.drop(['loc','title'],axis=1)"
   ]
  },
  {
   "cell_type": "code",
   "execution_count": 705,
   "id": "d3bed40d",
   "metadata": {
    "scrolled": true
   },
   "outputs": [
    {
     "data": {
      "text/html": [
       "<div>\n",
       "<style scoped>\n",
       "    .dataframe tbody tr th:only-of-type {\n",
       "        vertical-align: middle;\n",
       "    }\n",
       "\n",
       "    .dataframe tbody tr th {\n",
       "        vertical-align: top;\n",
       "    }\n",
       "\n",
       "    .dataframe thead th {\n",
       "        text-align: right;\n",
       "    }\n",
       "</style>\n",
       "<table border=\"1\" class=\"dataframe\">\n",
       "  <thead>\n",
       "    <tr style=\"text-align: right;\">\n",
       "      <th></th>\n",
       "      <th>ID</th>\n",
       "      <th>bedroom</th>\n",
       "      <th>bathroom</th>\n",
       "      <th>parking_space</th>\n",
       "      <th>price</th>\n",
       "      <th>location</th>\n",
       "      <th>Title</th>\n",
       "    </tr>\n",
       "  </thead>\n",
       "  <tbody>\n",
       "    <tr>\n",
       "      <th>0</th>\n",
       "      <td>3583</td>\n",
       "      <td>2.0</td>\n",
       "      <td>2.0</td>\n",
       "      <td>1.0</td>\n",
       "      <td>1149999.565</td>\n",
       "      <td>Katsina</td>\n",
       "      <td>Semi-detached duplex</td>\n",
       "    </tr>\n",
       "    <tr>\n",
       "      <th>1</th>\n",
       "      <td>2748</td>\n",
       "      <td>4.0</td>\n",
       "      <td>2.0</td>\n",
       "      <td>4.0</td>\n",
       "      <td>1672416.689</td>\n",
       "      <td>Ondo</td>\n",
       "      <td>Apartment</td>\n",
       "    </tr>\n",
       "    <tr>\n",
       "      <th>2</th>\n",
       "      <td>9261</td>\n",
       "      <td>7.0</td>\n",
       "      <td>5.0</td>\n",
       "      <td>4.0</td>\n",
       "      <td>3364799.814</td>\n",
       "      <td>Ekiti</td>\n",
       "      <td>Mansion</td>\n",
       "    </tr>\n",
       "    <tr>\n",
       "      <th>3</th>\n",
       "      <td>2224</td>\n",
       "      <td>5.0</td>\n",
       "      <td>2.0</td>\n",
       "      <td>4.0</td>\n",
       "      <td>2410306.756</td>\n",
       "      <td>Anambra</td>\n",
       "      <td>Detached duplex</td>\n",
       "    </tr>\n",
       "    <tr>\n",
       "      <th>4</th>\n",
       "      <td>10300</td>\n",
       "      <td>4.0</td>\n",
       "      <td>5.0</td>\n",
       "      <td>6.0</td>\n",
       "      <td>2600700.898</td>\n",
       "      <td>Kogi</td>\n",
       "      <td>Terrace duplex</td>\n",
       "    </tr>\n",
       "  </tbody>\n",
       "</table>\n",
       "</div>"
      ],
      "text/plain": [
       "      ID  bedroom  bathroom  parking_space        price location  \\\n",
       "0   3583      2.0       2.0            1.0  1149999.565  Katsina   \n",
       "1   2748      4.0       2.0            4.0  1672416.689     Ondo   \n",
       "2   9261      7.0       5.0            4.0  3364799.814    Ekiti   \n",
       "3   2224      5.0       2.0            4.0  2410306.756  Anambra   \n",
       "4  10300      4.0       5.0            6.0  2600700.898     Kogi   \n",
       "\n",
       "                  Title  \n",
       "0  Semi-detached duplex  \n",
       "1             Apartment  \n",
       "2               Mansion  \n",
       "3       Detached duplex  \n",
       "4        Terrace duplex  "
      ]
     },
     "execution_count": 705,
     "metadata": {},
     "output_type": "execute_result"
    }
   ],
   "source": [
    "new_data.head()"
   ]
  },
  {
   "cell_type": "code",
   "execution_count": 706,
   "id": "e91604c3",
   "metadata": {},
   "outputs": [
    {
     "data": {
      "text/plain": [
       "<AxesSubplot:xlabel='bathroom', ylabel='bedroom'>"
      ]
     },
     "execution_count": 706,
     "metadata": {},
     "output_type": "execute_result"
    },
    {
     "data": {
      "image/png": "[encoded data removed]",
      "text/plain": [
       "<Figure size 432x288 with 1 Axes>"
      ]
     },
     "metadata": {
      "needs_background": "light"
     },
     "output_type": "display_data"
    }
   ],
   "source": [
    "# very little correlation between the features below\n",
    "sns.scatterplot(data = new_data, x = 'bathroom',y='bedroom')"
   ]
  },
  {
   "cell_type": "code",
   "execution_count": 707,
   "id": "81a12006",
   "metadata": {},
   "outputs": [
    {
     "data": {
      "text/plain": [
       "<AxesSubplot:>"
      ]
     },
     "execution_count": 707,
     "metadata": {},
     "output_type": "execute_result"
    },
    {
     "data": {
      "image/png": "[encoded data removed]",
      "text/plain": [
       "<Figure size 432x288 with 2 Axes>"
      ]
     },
     "metadata": {
      "needs_background": "light"
     },
     "output_type": "display_data"
    }
   ],
   "source": [
    "#showing correlation between the features below\n",
    "sns.heatmap(data[['bedroom','bathroom']].corr(),annot=True)"
   ]
  },
  {
   "cell_type": "markdown",
   "id": "8c3c4992",
   "metadata": {},
   "source": [
    "price against bedroom"
   ]
  },
  {
   "cell_type": "code",
   "execution_count": 708,
   "id": "221e5c87",
   "metadata": {
    "scrolled": false
   },
   "outputs": [
    {
     "data": {
      "text/plain": [
       "<AxesSubplot:xlabel='bedroom', ylabel='price'>"
      ]
     },
     "execution_count": 708,
     "metadata": {},
     "output_type": "execute_result"
    },
    {
     "data": {
      "image/png": "[encoded data removed]",
      "text/plain": [
       "<Figure size 432x288 with 1 Axes>"
      ]
     },
     "metadata": {
      "needs_background": "light"
     },
     "output_type": "display_data"
    }
   ],
   "source": [
    "\n",
    "sns.scatterplot(data=new_data, y = 'price',x = 'bedroom')"
   ]
  },
  {
   "cell_type": "markdown",
   "id": "74f25357",
   "metadata": {},
   "source": [
    "price against bathroom"
   ]
  },
  {
   "cell_type": "code",
   "execution_count": 709,
   "id": "a2ea3b52",
   "metadata": {},
   "outputs": [
    {
     "data": {
      "text/plain": [
       "<AxesSubplot:xlabel='bathroom', ylabel='price'>"
      ]
     },
     "execution_count": 709,
     "metadata": {},
     "output_type": "execute_result"
    },
    {
     "data": {
      "image/png": "[encoded data removed]",
      "text/plain": [
       "<Figure size 432x288 with 1 Axes>"
      ]
     },
     "metadata": {
      "needs_background": "light"
     },
     "output_type": "display_data"
    }
   ],
   "source": [
    "sns.scatterplot(data=new_data, y = 'price',x = 'bathroom')"
   ]
  },
  {
   "cell_type": "markdown",
   "id": "ca53f3b6",
   "metadata": {},
   "source": [
    "price againt parking_space"
   ]
  },
  {
   "cell_type": "code",
   "execution_count": 710,
   "id": "345a94f3",
   "metadata": {},
   "outputs": [
    {
     "data": {
      "text/plain": [
       "<AxesSubplot:xlabel='parking_space', ylabel='price'>"
      ]
     },
     "execution_count": 710,
     "metadata": {},
     "output_type": "execute_result"
    },
    {
     "data": {
      "image/png": "[encoded data removed]",
      "text/plain": [
       "<Figure size 432x288 with 1 Axes>"
      ]
     },
     "metadata": {
      "needs_background": "light"
     },
     "output_type": "display_data"
    }
   ],
   "source": [
    "sns.scatterplot(data=new_data, y = 'price',x = 'parking_space')"
   ]
  },
  {
   "cell_type": "markdown",
   "id": "c43cfa1f",
   "metadata": {},
   "source": [
    "## still on price and title"
   ]
  },
  {
   "cell_type": "code",
   "execution_count": 712,
   "id": "7343ef1a",
   "metadata": {
    "scrolled": true
   },
   "outputs": [],
   "source": [
    "''' 't' is a DataFrame that shows the mean values of each numerical column in new_data, \n",
    "grouped by the unique values in the 'Title' column.'''\n",
    "t = new_data.groupby('Title').mean()"
   ]
  },
  {
   "cell_type": "code",
   "execution_count": 713,
   "id": "4efbe8dc",
   "metadata": {},
   "outputs": [],
   "source": [
    "# used to sort the DataFrame t based on the values in the 'price' column in ascending order.\n",
    "t.sort_values(by='price',ascending=True, inplace = True)"
   ]
  },
  {
   "cell_type": "code",
   "execution_count": 714,
   "id": "b1c7f142",
   "metadata": {},
   "outputs": [
    {
     "data": {
      "text/plain": [
       "Index(['Cottage', 'Apartment', 'Flat', 'Bungalow', 'Semi-detached duplex',\n",
       "       'Terrace duplex', 'Townhouse', 'Detached duplex', 'Penthouse',\n",
       "       'Mansion'],\n",
       "      dtype='object', name='Title')"
      ]
     },
     "execution_count": 714,
     "metadata": {},
     "output_type": "execute_result"
    }
   ],
   "source": [
    "#Assigned the index value of 't' to a new variable\n",
    "order = t.index\n",
    "order"
   ]
  },
  {
   "cell_type": "code",
   "execution_count": 717,
   "id": "d8c7b93f",
   "metadata": {},
   "outputs": [
    {
     "data": {
      "image/png": "[encoded data removed]",
      "text/plain": [
       "<Figure size 864x576 with 1 Axes>"
      ]
     },
     "metadata": {
      "needs_background": "light"
     },
     "output_type": "display_data"
    }
   ],
   "source": [
    "plt.figure(figsize=(12,8))\n",
    "sns.barplot(data=new_data,x='Title',y = 'price',order = order,palette='ocean')\n",
    "plt.tight_layout()\n",
    "plt.show()"
   ]
  },
  {
   "cell_type": "markdown",
   "id": "6e7891d1",
   "metadata": {},
   "source": [
    "## price and location"
   ]
  },
  {
   "cell_type": "code",
   "execution_count": 723,
   "id": "00997bd7",
   "metadata": {},
   "outputs": [
    {
     "data": {
      "image/png": "[encoded data removed]",
      "text/plain": [
       "<Figure size 576x864 with 1 Axes>"
      ]
     },
     "metadata": {
      "needs_background": "light"
     },
     "output_type": "display_data"
    }
   ],
   "source": [
    "plt.figure(figsize=(8,12))\n",
    "sns.barplot(data=new_data,y='location',x = 'price',palette = 'coolwarm')\n",
    "plt.show()"
   ]
  },
  {
   "cell_type": "markdown",
   "id": "b84a1f51",
   "metadata": {},
   "source": [
    "Histogram"
   ]
  },
  {
   "cell_type": "code",
   "execution_count": 724,
   "id": "f33006ae",
   "metadata": {},
   "outputs": [
    {
     "data": {
      "image/png": "[encoded data removed]",
      "text/plain": [
       "<Figure size 864x576 with 1 Axes>"
      ]
     },
     "metadata": {
      "needs_background": "light"
     },
     "output_type": "display_data"
    }
   ],
   "source": [
    "plt.figure(figsize=(12,8))\n",
    "sns.histplot(data['price'])\n",
    "\n",
    "plt.show()\n"
   ]
  },
  {
   "cell_type": "code",
   "execution_count": 727,
   "id": "842d1155",
   "metadata": {},
   "outputs": [
    {
     "data": {
      "text/plain": [
       "<AxesSubplot:xlabel='price', ylabel='Count'>"
      ]
     },
     "execution_count": 727,
     "metadata": {},
     "output_type": "execute_result"
    },
    {
     "data": {
      "image/png": "[encoded data removed]",
      "text/plain": [
       "<Figure size 432x288 with 1 Axes>"
      ]
     },
     "metadata": {
      "needs_background": "light"
     },
     "output_type": "display_data"
    }
   ],
   "source": [
    "'''generates a histogram of house prices from the new_data DataFrame, but only for prices that\n",
    "are above the threshold 4169269.364.'''\n",
    "sns.histplot(new_data[new_data['price']<4169269.364]['price'])"
   ]
  },
  {
   "cell_type": "markdown",
   "id": "e005ca6c",
   "metadata": {},
   "source": [
    "## current working dataframe \"model_data\"\n",
    "* hello"
   ]
  },
  {
   "cell_type": "code",
   "execution_count": 804,
   "id": "0e05a150",
   "metadata": {},
   "outputs": [],
   "source": [
    "'''creating a new dataframe that will contain only the rows from new_data where the 'price' is\n",
    "less than 4169269.364.'''\n",
    "model_data = new_data[new_data['price']<4169269.364]"
   ]
  },
  {
   "cell_type": "code",
   "execution_count": 805,
   "id": "69e41b79",
   "metadata": {},
   "outputs": [
    {
     "data": {
      "text/plain": [
       "array(['Katsina', 'Ondo', 'Ekiti', 'Anambra', 'Kogi', 'Borno', 'Kwara',\n",
       "       'Osun', 'Kaduna', 'Ogun', 'Bayelsa', 'Jigawa', 'Abia', 'Rivers',\n",
       "       'Taraba', 'Ebonyi', 'Kebbi', 'Enugu', 'Edo', 'Nasarawa', 'Delta',\n",
       "       'Kano', 'Yobe', 'Sokoto', 'Benue', 'Bauchi', 'Cross River',\n",
       "       'Niger', 'Adamawa', 'Plateau', 'Imo', 'Oyo', 'Zamfara', 'Gombe',\n",
       "       'Akwa Ibom', 'Lagos'], dtype=object)"
      ]
     },
     "execution_count": 805,
     "metadata": {},
     "output_type": "execute_result"
    }
   ],
   "source": [
    "model_data['location'].unique()"
   ]
  },
  {
   "cell_type": "code",
   "execution_count": 806,
   "id": "0c8582c5",
   "metadata": {},
   "outputs": [
    {
     "data": {
      "image/png": "[encoded data removed]",
      "text/plain": [
       "<Figure size 864x432 with 2 Axes>"
      ]
     },
     "metadata": {
      "needs_background": "light"
     },
     "output_type": "display_data"
    }
   ],
   "source": [
    "#heatmap of the correlation between the columns\n",
    "plt.figure(figsize=(12,6))\n",
    "sns.heatmap(model_data.corr(),annot=True)\n",
    "plt.show()"
   ]
  },
  {
   "cell_type": "markdown",
   "id": "6f43929b",
   "metadata": {},
   "source": [
    "# Importing for model development"
   ]
  },
  {
   "cell_type": "code",
   "execution_count": 807,
   "id": "bfaeb5e4",
   "metadata": {},
   "outputs": [],
   "source": [
    "import sklearn"
   ]
  },
  {
   "cell_type": "code",
   "execution_count": 808,
   "id": "878c39ad",
   "metadata": {},
   "outputs": [],
   "source": [
    "from sklearn.preprocessing import LabelEncoder"
   ]
  },
  {
   "cell_type": "code",
   "execution_count": 809,
   "id": "462b9f7c",
   "metadata": {},
   "outputs": [],
   "source": [
    "# To encode non numericalvariabels into numericalrepresentation\n",
    "encod_loc = LabelEncoder()"
   ]
  },
  {
   "cell_type": "code",
   "execution_count": 810,
   "id": "15afec43",
   "metadata": {},
   "outputs": [],
   "source": [
    "''' using the LabelEncoder object encod_loc to encode the categorical values in the 'location'\n",
    "column of the DataFrame model_data into numeric representations.'''\n",
    "num_loc = encod_loc.fit_transform(model_data['location'])"
   ]
  },
  {
   "cell_type": "code",
   "execution_count": 811,
   "id": "65bb1236",
   "metadata": {},
   "outputs": [
    {
     "data": {
      "text/plain": [
       "array([19, 27, 12, ..., 30,  9, 24])"
      ]
     },
     "execution_count": 811,
     "metadata": {},
     "output_type": "execute_result"
    }
   ],
   "source": [
    "num_loc"
   ]
  },
  {
   "cell_type": "code",
   "execution_count": 812,
   "id": "9df2a19c",
   "metadata": {},
   "outputs": [
    {
     "data": {
      "text/plain": [
       "0         Katsina\n",
       "1            Ondo\n",
       "2           Ekiti\n",
       "3         Anambra\n",
       "4            Kogi\n",
       "           ...   \n",
       "13995         Edo\n",
       "13996      Kaduna\n",
       "13997     Plateau\n",
       "13998       Delta\n",
       "13999    Nasarawa\n",
       "Name: location, Length: 13299, dtype: object"
      ]
     },
     "execution_count": 812,
     "metadata": {},
     "output_type": "execute_result"
    }
   ],
   "source": [
    "model_data['location']"
   ]
  },
  {
   "cell_type": "code",
   "execution_count": 813,
   "id": "fbbdaa79",
   "metadata": {},
   "outputs": [],
   "source": [
    "# To encode non numericalvariabels into numericalrepresentation\n",
    "encod_title = LabelEncoder()\n",
    "\n",
    "''' using the LabelEncoder object encod_loc to encode the categorical values in the 'location'\n",
    "column of the DataFrame model_data into numeric representations.'''\n",
    "num_title = encod_title.fit_transform(model_data['Title'])"
   ]
  },
  {
   "cell_type": "markdown",
   "id": "3e2e517d",
   "metadata": {},
   "source": [
    "## new dataframe with numeric data...."
   ]
  },
  {
   "cell_type": "code",
   "execution_count": 814,
   "id": "f58320e9",
   "metadata": {
    "scrolled": true
   },
   "outputs": [
    {
     "name": "stderr",
     "output_type": "stream",
     "text": [
      "C:\\Users\\HP 15 I3 TOUCH\\AppData\\Local\\Temp\\ipykernel_12172\\3485985459.py:2: SettingWithCopyWarning: \n",
      "A value is trying to be set on a copy of a slice from a DataFrame.\n",
      "Try using .loc[row_indexer,col_indexer] = value instead\n",
      "\n",
      "See the caveats in the documentation: https://pandas.pydata.org/pandas-docs/stable/user_guide/indexing.html#returning-a-view-versus-a-copy\n",
      "  model_data['num_loc'] = num_loc\n",
      "C:\\Users\\HP 15 I3 TOUCH\\AppData\\Local\\Temp\\ipykernel_12172\\3485985459.py:3: SettingWithCopyWarning: \n",
      "A value is trying to be set on a copy of a slice from a DataFrame.\n",
      "Try using .loc[row_indexer,col_indexer] = value instead\n",
      "\n",
      "See the caveats in the documentation: https://pandas.pydata.org/pandas-docs/stable/user_guide/indexing.html#returning-a-view-versus-a-copy\n",
      "  model_data['num_title'] = num_title\n"
     ]
    }
   ],
   "source": [
    "#creating two new columns containing numerical data that corresponds to the loc and title column\n",
    "model_data['num_loc'] = num_loc\n",
    "model_data['num_title'] = num_title"
   ]
  },
  {
   "cell_type": "code",
   "execution_count": 815,
   "id": "c26b50f5",
   "metadata": {},
   "outputs": [
    {
     "data": {
      "text/html": [
       "<div>\n",
       "<style scoped>\n",
       "    .dataframe tbody tr th:only-of-type {\n",
       "        vertical-align: middle;\n",
       "    }\n",
       "\n",
       "    .dataframe tbody tr th {\n",
       "        vertical-align: top;\n",
       "    }\n",
       "\n",
       "    .dataframe thead th {\n",
       "        text-align: right;\n",
       "    }\n",
       "</style>\n",
       "<table border=\"1\" class=\"dataframe\">\n",
       "  <thead>\n",
       "    <tr style=\"text-align: right;\">\n",
       "      <th></th>\n",
       "      <th>ID</th>\n",
       "      <th>bedroom</th>\n",
       "      <th>bathroom</th>\n",
       "      <th>parking_space</th>\n",
       "      <th>price</th>\n",
       "      <th>location</th>\n",
       "      <th>Title</th>\n",
       "      <th>num_loc</th>\n",
       "      <th>num_title</th>\n",
       "    </tr>\n",
       "  </thead>\n",
       "  <tbody>\n",
       "    <tr>\n",
       "      <th>0</th>\n",
       "      <td>3583</td>\n",
       "      <td>2.0</td>\n",
       "      <td>2.0</td>\n",
       "      <td>1.0</td>\n",
       "      <td>1149999.565</td>\n",
       "      <td>Katsina</td>\n",
       "      <td>Semi-detached duplex</td>\n",
       "      <td>19</td>\n",
       "      <td>7</td>\n",
       "    </tr>\n",
       "    <tr>\n",
       "      <th>1</th>\n",
       "      <td>2748</td>\n",
       "      <td>4.0</td>\n",
       "      <td>2.0</td>\n",
       "      <td>4.0</td>\n",
       "      <td>1672416.689</td>\n",
       "      <td>Ondo</td>\n",
       "      <td>Apartment</td>\n",
       "      <td>27</td>\n",
       "      <td>0</td>\n",
       "    </tr>\n",
       "    <tr>\n",
       "      <th>2</th>\n",
       "      <td>9261</td>\n",
       "      <td>7.0</td>\n",
       "      <td>5.0</td>\n",
       "      <td>4.0</td>\n",
       "      <td>3364799.814</td>\n",
       "      <td>Ekiti</td>\n",
       "      <td>Mansion</td>\n",
       "      <td>12</td>\n",
       "      <td>5</td>\n",
       "    </tr>\n",
       "    <tr>\n",
       "      <th>3</th>\n",
       "      <td>2224</td>\n",
       "      <td>5.0</td>\n",
       "      <td>2.0</td>\n",
       "      <td>4.0</td>\n",
       "      <td>2410306.756</td>\n",
       "      <td>Anambra</td>\n",
       "      <td>Detached duplex</td>\n",
       "      <td>3</td>\n",
       "      <td>3</td>\n",
       "    </tr>\n",
       "    <tr>\n",
       "      <th>4</th>\n",
       "      <td>10300</td>\n",
       "      <td>4.0</td>\n",
       "      <td>5.0</td>\n",
       "      <td>6.0</td>\n",
       "      <td>2600700.898</td>\n",
       "      <td>Kogi</td>\n",
       "      <td>Terrace duplex</td>\n",
       "      <td>21</td>\n",
       "      <td>8</td>\n",
       "    </tr>\n",
       "    <tr>\n",
       "      <th>...</th>\n",
       "      <td>...</td>\n",
       "      <td>...</td>\n",
       "      <td>...</td>\n",
       "      <td>...</td>\n",
       "      <td>...</td>\n",
       "      <td>...</td>\n",
       "      <td>...</td>\n",
       "      <td>...</td>\n",
       "      <td>...</td>\n",
       "    </tr>\n",
       "    <tr>\n",
       "      <th>13995</th>\n",
       "      <td>6175</td>\n",
       "      <td>4.0</td>\n",
       "      <td>7.0</td>\n",
       "      <td>4.0</td>\n",
       "      <td>2367927.861</td>\n",
       "      <td>Edo</td>\n",
       "      <td>Bungalow</td>\n",
       "      <td>11</td>\n",
       "      <td>1</td>\n",
       "    </tr>\n",
       "    <tr>\n",
       "      <th>13996</th>\n",
       "      <td>9704</td>\n",
       "      <td>4.0</td>\n",
       "      <td>7.0</td>\n",
       "      <td>5.0</td>\n",
       "      <td>2228516.471</td>\n",
       "      <td>Kaduna</td>\n",
       "      <td>Apartment</td>\n",
       "      <td>17</td>\n",
       "      <td>0</td>\n",
       "    </tr>\n",
       "    <tr>\n",
       "      <th>13997</th>\n",
       "      <td>11190</td>\n",
       "      <td>8.0</td>\n",
       "      <td>6.0</td>\n",
       "      <td>5.0</td>\n",
       "      <td>2406812.693</td>\n",
       "      <td>Plateau</td>\n",
       "      <td>Bungalow</td>\n",
       "      <td>30</td>\n",
       "      <td>1</td>\n",
       "    </tr>\n",
       "    <tr>\n",
       "      <th>13998</th>\n",
       "      <td>9256</td>\n",
       "      <td>4.0</td>\n",
       "      <td>6.0</td>\n",
       "      <td>1.0</td>\n",
       "      <td>3348918.718</td>\n",
       "      <td>Delta</td>\n",
       "      <td>Flat</td>\n",
       "      <td>9</td>\n",
       "      <td>4</td>\n",
       "    </tr>\n",
       "    <tr>\n",
       "      <th>13999</th>\n",
       "      <td>8787</td>\n",
       "      <td>9.0</td>\n",
       "      <td>7.0</td>\n",
       "      <td>5.0</td>\n",
       "      <td>2858516.890</td>\n",
       "      <td>Nasarawa</td>\n",
       "      <td>Penthouse</td>\n",
       "      <td>24</td>\n",
       "      <td>6</td>\n",
       "    </tr>\n",
       "  </tbody>\n",
       "</table>\n",
       "<p>13299 rows × 9 columns</p>\n",
       "</div>"
      ],
      "text/plain": [
       "          ID  bedroom  bathroom  parking_space        price  location  \\\n",
       "0       3583      2.0       2.0            1.0  1149999.565   Katsina   \n",
       "1       2748      4.0       2.0            4.0  1672416.689      Ondo   \n",
       "2       9261      7.0       5.0            4.0  3364799.814     Ekiti   \n",
       "3       2224      5.0       2.0            4.0  2410306.756   Anambra   \n",
       "4      10300      4.0       5.0            6.0  2600700.898      Kogi   \n",
       "...      ...      ...       ...            ...          ...       ...   \n",
       "13995   6175      4.0       7.0            4.0  2367927.861       Edo   \n",
       "13996   9704      4.0       7.0            5.0  2228516.471    Kaduna   \n",
       "13997  11190      8.0       6.0            5.0  2406812.693   Plateau   \n",
       "13998   9256      4.0       6.0            1.0  3348918.718     Delta   \n",
       "13999   8787      9.0       7.0            5.0  2858516.890  Nasarawa   \n",
       "\n",
       "                      Title  num_loc  num_title  \n",
       "0      Semi-detached duplex       19          7  \n",
       "1                 Apartment       27          0  \n",
       "2                   Mansion       12          5  \n",
       "3           Detached duplex        3          3  \n",
       "4            Terrace duplex       21          8  \n",
       "...                     ...      ...        ...  \n",
       "13995              Bungalow       11          1  \n",
       "13996             Apartment       17          0  \n",
       "13997              Bungalow       30          1  \n",
       "13998                  Flat        9          4  \n",
       "13999             Penthouse       24          6  \n",
       "\n",
       "[13299 rows x 9 columns]"
      ]
     },
     "execution_count": 815,
     "metadata": {},
     "output_type": "execute_result"
    }
   ],
   "source": [
    "model_data"
   ]
  },
  {
   "cell_type": "code",
   "execution_count": 817,
   "id": "199de40f",
   "metadata": {},
   "outputs": [
    {
     "name": "stderr",
     "output_type": "stream",
     "text": [
      "C:\\Users\\HP 15 I3 TOUCH\\AppData\\Local\\Temp\\ipykernel_12172\\2522622195.py:1: SettingWithCopyWarning: \n",
      "A value is trying to be set on a copy of a slice from a DataFrame\n",
      "\n",
      "See the caveats in the documentation: https://pandas.pydata.org/pandas-docs/stable/user_guide/indexing.html#returning-a-view-versus-a-copy\n",
      "  model_data.drop(['location','Title','ID'],inplace= True,axis = 1)\n"
     ]
    }
   ],
   "source": [
    "model_data.drop(['location','Title','ID'],inplace= True,axis = 1)"
   ]
  },
  {
   "cell_type": "code",
   "execution_count": 818,
   "id": "b823e1b4",
   "metadata": {},
   "outputs": [
    {
     "data": {
      "text/html": [
       "<div>\n",
       "<style scoped>\n",
       "    .dataframe tbody tr th:only-of-type {\n",
       "        vertical-align: middle;\n",
       "    }\n",
       "\n",
       "    .dataframe tbody tr th {\n",
       "        vertical-align: top;\n",
       "    }\n",
       "\n",
       "    .dataframe thead th {\n",
       "        text-align: right;\n",
       "    }\n",
       "</style>\n",
       "<table border=\"1\" class=\"dataframe\">\n",
       "  <thead>\n",
       "    <tr style=\"text-align: right;\">\n",
       "      <th></th>\n",
       "      <th>bedroom</th>\n",
       "      <th>bathroom</th>\n",
       "      <th>parking_space</th>\n",
       "      <th>price</th>\n",
       "      <th>num_loc</th>\n",
       "      <th>num_title</th>\n",
       "    </tr>\n",
       "  </thead>\n",
       "  <tbody>\n",
       "    <tr>\n",
       "      <th>0</th>\n",
       "      <td>2.0</td>\n",
       "      <td>2.0</td>\n",
       "      <td>1.0</td>\n",
       "      <td>1149999.565</td>\n",
       "      <td>19</td>\n",
       "      <td>7</td>\n",
       "    </tr>\n",
       "    <tr>\n",
       "      <th>1</th>\n",
       "      <td>4.0</td>\n",
       "      <td>2.0</td>\n",
       "      <td>4.0</td>\n",
       "      <td>1672416.689</td>\n",
       "      <td>27</td>\n",
       "      <td>0</td>\n",
       "    </tr>\n",
       "    <tr>\n",
       "      <th>2</th>\n",
       "      <td>7.0</td>\n",
       "      <td>5.0</td>\n",
       "      <td>4.0</td>\n",
       "      <td>3364799.814</td>\n",
       "      <td>12</td>\n",
       "      <td>5</td>\n",
       "    </tr>\n",
       "    <tr>\n",
       "      <th>3</th>\n",
       "      <td>5.0</td>\n",
       "      <td>2.0</td>\n",
       "      <td>4.0</td>\n",
       "      <td>2410306.756</td>\n",
       "      <td>3</td>\n",
       "      <td>3</td>\n",
       "    </tr>\n",
       "    <tr>\n",
       "      <th>4</th>\n",
       "      <td>4.0</td>\n",
       "      <td>5.0</td>\n",
       "      <td>6.0</td>\n",
       "      <td>2600700.898</td>\n",
       "      <td>21</td>\n",
       "      <td>8</td>\n",
       "    </tr>\n",
       "    <tr>\n",
       "      <th>...</th>\n",
       "      <td>...</td>\n",
       "      <td>...</td>\n",
       "      <td>...</td>\n",
       "      <td>...</td>\n",
       "      <td>...</td>\n",
       "      <td>...</td>\n",
       "    </tr>\n",
       "    <tr>\n",
       "      <th>13995</th>\n",
       "      <td>4.0</td>\n",
       "      <td>7.0</td>\n",
       "      <td>4.0</td>\n",
       "      <td>2367927.861</td>\n",
       "      <td>11</td>\n",
       "      <td>1</td>\n",
       "    </tr>\n",
       "    <tr>\n",
       "      <th>13996</th>\n",
       "      <td>4.0</td>\n",
       "      <td>7.0</td>\n",
       "      <td>5.0</td>\n",
       "      <td>2228516.471</td>\n",
       "      <td>17</td>\n",
       "      <td>0</td>\n",
       "    </tr>\n",
       "    <tr>\n",
       "      <th>13997</th>\n",
       "      <td>8.0</td>\n",
       "      <td>6.0</td>\n",
       "      <td>5.0</td>\n",
       "      <td>2406812.693</td>\n",
       "      <td>30</td>\n",
       "      <td>1</td>\n",
       "    </tr>\n",
       "    <tr>\n",
       "      <th>13998</th>\n",
       "      <td>4.0</td>\n",
       "      <td>6.0</td>\n",
       "      <td>1.0</td>\n",
       "      <td>3348918.718</td>\n",
       "      <td>9</td>\n",
       "      <td>4</td>\n",
       "    </tr>\n",
       "    <tr>\n",
       "      <th>13999</th>\n",
       "      <td>9.0</td>\n",
       "      <td>7.0</td>\n",
       "      <td>5.0</td>\n",
       "      <td>2858516.890</td>\n",
       "      <td>24</td>\n",
       "      <td>6</td>\n",
       "    </tr>\n",
       "  </tbody>\n",
       "</table>\n",
       "<p>13299 rows × 6 columns</p>\n",
       "</div>"
      ],
      "text/plain": [
       "       bedroom  bathroom  parking_space        price  num_loc  num_title\n",
       "0          2.0       2.0            1.0  1149999.565       19          7\n",
       "1          4.0       2.0            4.0  1672416.689       27          0\n",
       "2          7.0       5.0            4.0  3364799.814       12          5\n",
       "3          5.0       2.0            4.0  2410306.756        3          3\n",
       "4          4.0       5.0            6.0  2600700.898       21          8\n",
       "...        ...       ...            ...          ...      ...        ...\n",
       "13995      4.0       7.0            4.0  2367927.861       11          1\n",
       "13996      4.0       7.0            5.0  2228516.471       17          0\n",
       "13997      8.0       6.0            5.0  2406812.693       30          1\n",
       "13998      4.0       6.0            1.0  3348918.718        9          4\n",
       "13999      9.0       7.0            5.0  2858516.890       24          6\n",
       "\n",
       "[13299 rows x 6 columns]"
      ]
     },
     "execution_count": 818,
     "metadata": {},
     "output_type": "execute_result"
    }
   ],
   "source": [
    "model_data"
   ]
  },
  {
   "cell_type": "markdown",
   "id": "2c268db7",
   "metadata": {},
   "source": [
    "## Data splitting"
   ]
  },
  {
   "cell_type": "code",
   "execution_count": 819,
   "id": "556c7691",
   "metadata": {},
   "outputs": [
    {
     "data": {
      "text/plain": [
       "Index(['bedroom', 'bathroom', 'parking_space', 'price', 'num_loc',\n",
       "       'num_title'],\n",
       "      dtype='object')"
      ]
     },
     "execution_count": 819,
     "metadata": {},
     "output_type": "execute_result"
    }
   ],
   "source": [
    "#To check column name\n",
    "model_data.columns"
   ]
  },
  {
   "cell_type": "code",
   "execution_count": 820,
   "id": "70321645",
   "metadata": {},
   "outputs": [],
   "source": [
    "# Data Splitting\n",
    "X=model_data[['bedroom', 'bathroom', 'parking_space', 'num_loc','num_title']]"
   ]
  },
  {
   "cell_type": "code",
   "execution_count": 821,
   "id": "919b38f5",
   "metadata": {},
   "outputs": [],
   "source": [
    "#target variable\n",
    "y= model_data['price']"
   ]
  },
  {
   "cell_type": "markdown",
   "id": "82296c86",
   "metadata": {},
   "source": [
    "# Importing more necessary libraries for model development"
   ]
  },
  {
   "cell_type": "code",
   "execution_count": 822,
   "id": "093e952b",
   "metadata": {},
   "outputs": [],
   "source": [
    "from sklearn.model_selection import train_test_split"
   ]
  },
  {
   "cell_type": "code",
   "execution_count": 823,
   "id": "883f080e",
   "metadata": {},
   "outputs": [],
   "source": [
    "# Splitting the dataset into training and testing sets\n",
    "X_train, X_test, y_train, y_test = train_test_split(X, y, test_size=0.3, random_state=101)"
   ]
  },
  {
   "cell_type": "code",
   "execution_count": 824,
   "id": "430aa04f",
   "metadata": {},
   "outputs": [],
   "source": [
    "from sklearn.linear_model import LinearRegression"
   ]
  },
  {
   "cell_type": "code",
   "execution_count": 825,
   "id": "0fb902eb",
   "metadata": {},
   "outputs": [],
   "source": [
    "# Model Development - Linear Regression\n",
    "lm = LinearRegression()"
   ]
  },
  {
   "cell_type": "code",
   "execution_count": 826,
   "id": "00d90900",
   "metadata": {},
   "outputs": [
    {
     "data": {
      "text/plain": [
       "LinearRegression()"
      ]
     },
     "execution_count": 826,
     "metadata": {},
     "output_type": "execute_result"
    }
   ],
   "source": [
    "lm"
   ]
  },
  {
   "cell_type": "code",
   "execution_count": 827,
   "id": "e44873c4",
   "metadata": {
    "scrolled": true
   },
   "outputs": [
    {
     "data": {
      "text/plain": [
       "LinearRegression()"
      ]
     },
     "execution_count": 827,
     "metadata": {},
     "output_type": "execute_result"
    }
   ],
   "source": [
    "lm.fit(X_train,y_train)"
   ]
  },
  {
   "cell_type": "markdown",
   "id": "53d38eb2",
   "metadata": {},
   "source": [
    "# Model Coefficients"
   ]
  },
  {
   "cell_type": "code",
   "execution_count": 828,
   "id": "1d007652",
   "metadata": {},
   "outputs": [
    {
     "data": {
      "text/plain": [
       "array([189407.73822102,  59049.15047261,  34219.90670642,  -3299.22213259,\n",
       "        44982.32652658])"
      ]
     },
     "execution_count": 828,
     "metadata": {},
     "output_type": "execute_result"
    }
   ],
   "source": [
    "lm.coef_"
   ]
  },
  {
   "cell_type": "code",
   "execution_count": 829,
   "id": "95fc0a73",
   "metadata": {},
   "outputs": [
    {
     "name": "stdout",
     "output_type": "stream",
     "text": [
      "732574.0929974231\n"
     ]
    }
   ],
   "source": [
    "print(lm.intercept_)"
   ]
  },
  {
   "cell_type": "code",
   "execution_count": 830,
   "id": "ec5f512e",
   "metadata": {},
   "outputs": [],
   "source": [
    "# This shows the coefficient per unit increase of a particular feature\n",
    "cdf=pd.DataFrame(lm.coef_,X.columns,columns=['Coeff'])"
   ]
  },
  {
   "cell_type": "code",
   "execution_count": 831,
   "id": "96a1c351",
   "metadata": {},
   "outputs": [
    {
     "data": {
      "text/html": [
       "<div>\n",
       "<style scoped>\n",
       "    .dataframe tbody tr th:only-of-type {\n",
       "        vertical-align: middle;\n",
       "    }\n",
       "\n",
       "    .dataframe tbody tr th {\n",
       "        vertical-align: top;\n",
       "    }\n",
       "\n",
       "    .dataframe thead th {\n",
       "        text-align: right;\n",
       "    }\n",
       "</style>\n",
       "<table border=\"1\" class=\"dataframe\">\n",
       "  <thead>\n",
       "    <tr style=\"text-align: right;\">\n",
       "      <th></th>\n",
       "      <th>Coeff</th>\n",
       "    </tr>\n",
       "  </thead>\n",
       "  <tbody>\n",
       "    <tr>\n",
       "      <th>bedroom</th>\n",
       "      <td>189407.738221</td>\n",
       "    </tr>\n",
       "    <tr>\n",
       "      <th>bathroom</th>\n",
       "      <td>59049.150473</td>\n",
       "    </tr>\n",
       "    <tr>\n",
       "      <th>parking_space</th>\n",
       "      <td>34219.906706</td>\n",
       "    </tr>\n",
       "    <tr>\n",
       "      <th>num_loc</th>\n",
       "      <td>-3299.222133</td>\n",
       "    </tr>\n",
       "    <tr>\n",
       "      <th>num_title</th>\n",
       "      <td>44982.326527</td>\n",
       "    </tr>\n",
       "  </tbody>\n",
       "</table>\n",
       "</div>"
      ],
      "text/plain": [
       "                       Coeff\n",
       "bedroom        189407.738221\n",
       "bathroom        59049.150473\n",
       "parking_space   34219.906706\n",
       "num_loc         -3299.222133\n",
       "num_title       44982.326527"
      ]
     },
     "execution_count": 831,
     "metadata": {},
     "output_type": "execute_result"
    }
   ],
   "source": [
    "cdf"
   ]
  },
  {
   "cell_type": "code",
   "execution_count": 832,
   "id": "31dbf7ff",
   "metadata": {},
   "outputs": [
    {
     "data": {
      "text/plain": [
       "Index(['bedroom', 'bathroom', 'parking_space', 'num_loc', 'num_title'], dtype='object')"
      ]
     },
     "execution_count": 832,
     "metadata": {},
     "output_type": "execute_result"
    }
   ],
   "source": [
    "X_train.columns"
   ]
  },
  {
   "cell_type": "markdown",
   "id": "4da33233",
   "metadata": {},
   "source": [
    "Model Evaluation"
   ]
  },
  {
   "cell_type": "code",
   "execution_count": 833,
   "id": "197827ee",
   "metadata": {},
   "outputs": [],
   "source": [
    "from sklearn import metrics"
   ]
  },
  {
   "cell_type": "code",
   "execution_count": 834,
   "id": "6d8e2f99",
   "metadata": {},
   "outputs": [],
   "source": [
    "predictions = lm.predict(X_test)"
   ]
  },
  {
   "cell_type": "code",
   "execution_count": 835,
   "id": "9f9d0335",
   "metadata": {},
   "outputs": [
    {
     "data": {
      "text/plain": [
       "array([1063916.27106552, 1750988.68687769, 2649921.16686035, ...,\n",
       "       1611986.40296818, 1244270.19426038, 1824462.41126116])"
      ]
     },
     "execution_count": 835,
     "metadata": {},
     "output_type": "execute_result"
    }
   ],
   "source": [
    "predictions"
   ]
  },
  {
   "cell_type": "code",
   "execution_count": 836,
   "id": "db7bce76",
   "metadata": {},
   "outputs": [
    {
     "data": {
      "text/plain": [
       "<matplotlib.collections.PathCollection at 0x19fd8d48>"
      ]
     },
     "execution_count": 836,
     "metadata": {},
     "output_type": "execute_result"
    },
    {
     "data": {
      "image/png": "[encoded data removed]",
      "text/plain": [
       "<Figure size 432x288 with 1 Axes>"
      ]
     },
     "metadata": {
      "needs_background": "light"
     },
     "output_type": "display_data"
    }
   ],
   "source": [
    "#To visualise data\n",
    "plt.scatter(y_test,predictions)"
   ]
  },
  {
   "cell_type": "markdown",
   "id": "3b427d26",
   "metadata": {},
   "source": [
    "The plot below shows that the more the bedrooms the higher the price would be."
   ]
  },
  {
   "cell_type": "code",
   "execution_count": 837,
   "id": "a5a745cd",
   "metadata": {},
   "outputs": [
    {
     "data": {
      "image/png": "[encoded data removed]",
      "text/plain": [
       "<Figure size 360x360 with 1 Axes>"
      ]
     },
     "metadata": {
      "needs_background": "light"
     },
     "output_type": "display_data"
    }
   ],
   "source": [
    "\n",
    "sns.lmplot(x='price', y='bedroom', data=data)\n",
    "plt.show()"
   ]
  },
  {
   "cell_type": "code",
   "execution_count": 838,
   "id": "1e31f00f",
   "metadata": {},
   "outputs": [
    {
     "data": {
      "text/plain": [
       "<AxesSubplot:xlabel='price', ylabel='Count'>"
      ]
     },
     "execution_count": 838,
     "metadata": {},
     "output_type": "execute_result"
    },
    {
     "data": {
      "image/png": "[encoded data removed]",
      "text/plain": [
       "<Figure size 432x288 with 1 Axes>"
      ]
     },
     "metadata": {
      "needs_background": "light"
     },
     "output_type": "display_data"
    }
   ],
   "source": [
    "sns.histplot((y_test-predictions))"
   ]
  },
  {
   "cell_type": "markdown",
   "id": "08ba263b",
   "metadata": {},
   "source": [
    "Scatter plot of real test values versus predicted model"
   ]
  },
  {
   "cell_type": "code",
   "execution_count": 839,
   "id": "615538d4",
   "metadata": {},
   "outputs": [
    {
     "data": {
      "text/plain": [
       "Text(0, 0.5, 'Prediction Values')"
      ]
     },
     "execution_count": 839,
     "metadata": {},
     "output_type": "execute_result"
    },
    {
     "data": {
      "image/png": "[encoded data removed]",
      "text/plain": [
       "<Figure size 864x432 with 1 Axes>"
      ]
     },
     "metadata": {
      "needs_background": "light"
     },
     "output_type": "display_data"
    }
   ],
   "source": [
    "plt.figure(figsize=(12,6))\n",
    "plt.scatter(y_test,predictions)\n",
    "plt.plot(y_test,y_test)\n",
    "plt.xlabel('Y Test(True Values)')\n",
    "plt.ylabel('Prediction Values')"
   ]
  },
  {
   "cell_type": "markdown",
   "id": "ccecd83f",
   "metadata": {},
   "source": [
    "Error Evaluation"
   ]
  },
  {
   "cell_type": "code",
   "execution_count": 840,
   "id": "aed2d2d1",
   "metadata": {},
   "outputs": [
    {
     "name": "stdout",
     "output_type": "stream",
     "text": [
      "MAE 438023.802263587\n",
      "MSE 338114033234.6009\n",
      "RMSE 661.833666613891\n"
     ]
    }
   ],
   "source": [
    "#to show the mean average error,mean squared error and root mean square error of the model\n",
    "print('MAE',metrics.mean_absolute_error(y_test,predictions))\n",
    "print('MSE',metrics.mean_squared_error(y_test,predictions))\n",
    "print('RMSE',np.sqrt(metrics.mean_absolute_error(y_test,predictions)))"
   ]
  },
  {
   "cell_type": "markdown",
   "id": "dd6b031a",
   "metadata": {},
   "source": [
    "# predicting on all the dataset"
   ]
  },
  {
   "cell_type": "code",
   "execution_count": 841,
   "id": "96e5f6a9",
   "metadata": {},
   "outputs": [],
   "source": [
    "lm = LinearRegression()\n",
    "lm.fit(X,y)\n",
    "pred = lm.predict(X)"
   ]
  },
  {
   "cell_type": "code",
   "execution_count": 842,
   "id": "488b59be",
   "metadata": {},
   "outputs": [
    {
     "data": {
      "text/plain": [
       "Text(0, 0.5, 'Prediction Values')"
      ]
     },
     "execution_count": 842,
     "metadata": {},
     "output_type": "execute_result"
    },
    {
     "data": {
      "image/png": "[encoded data removed]",
      "text/plain": [
       "<Figure size 864x432 with 1 Axes>"
      ]
     },
     "metadata": {
      "needs_background": "light"
     },
     "output_type": "display_data"
    }
   ],
   "source": [
    "plt.figure(figsize=(12,6))\n",
    "plt.scatter(y,pred)\n",
    "plt.plot(y,y)\n",
    "plt.xlabel('Y Test(True Values)')\n",
    "plt.ylabel('Prediction Values')"
   ]
  },
  {
   "cell_type": "markdown",
   "id": "dac48840",
   "metadata": {},
   "source": [
    "# Prediction on test data"
   ]
  },
  {
   "cell_type": "code",
   "execution_count": 843,
   "id": "d503c54f",
   "metadata": {},
   "outputs": [
    {
     "data": {
      "text/html": [
       "<div>\n",
       "<style scoped>\n",
       "    .dataframe tbody tr th:only-of-type {\n",
       "        vertical-align: middle;\n",
       "    }\n",
       "\n",
       "    .dataframe tbody tr th {\n",
       "        vertical-align: top;\n",
       "    }\n",
       "\n",
       "    .dataframe thead th {\n",
       "        text-align: right;\n",
       "    }\n",
       "</style>\n",
       "<table border=\"1\" class=\"dataframe\">\n",
       "  <thead>\n",
       "    <tr style=\"text-align: right;\">\n",
       "      <th></th>\n",
       "      <th>ID</th>\n",
       "      <th>loc</th>\n",
       "      <th>title</th>\n",
       "      <th>bedroom</th>\n",
       "      <th>bathroom</th>\n",
       "      <th>parking_space</th>\n",
       "    </tr>\n",
       "  </thead>\n",
       "  <tbody>\n",
       "    <tr>\n",
       "      <th>0</th>\n",
       "      <td>845</td>\n",
       "      <td>Kano</td>\n",
       "      <td>Penthouse</td>\n",
       "      <td>4</td>\n",
       "      <td>1</td>\n",
       "      <td>2</td>\n",
       "    </tr>\n",
       "    <tr>\n",
       "      <th>1</th>\n",
       "      <td>1924</td>\n",
       "      <td>Adamawa</td>\n",
       "      <td>Apartment</td>\n",
       "      <td>2</td>\n",
       "      <td>2</td>\n",
       "      <td>4</td>\n",
       "    </tr>\n",
       "    <tr>\n",
       "      <th>2</th>\n",
       "      <td>10718</td>\n",
       "      <td>Adamawa</td>\n",
       "      <td>Bungalow</td>\n",
       "      <td>2</td>\n",
       "      <td>7</td>\n",
       "      <td>2</td>\n",
       "    </tr>\n",
       "    <tr>\n",
       "      <th>3</th>\n",
       "      <td>12076</td>\n",
       "      <td>Lagos</td>\n",
       "      <td>Mansion</td>\n",
       "      <td>9</td>\n",
       "      <td>5</td>\n",
       "      <td>2</td>\n",
       "    </tr>\n",
       "    <tr>\n",
       "      <th>4</th>\n",
       "      <td>12254</td>\n",
       "      <td>Gombe</td>\n",
       "      <td>Semi-detached duplex</td>\n",
       "      <td>5</td>\n",
       "      <td>6</td>\n",
       "      <td>1</td>\n",
       "    </tr>\n",
       "    <tr>\n",
       "      <th>...</th>\n",
       "      <td>...</td>\n",
       "      <td>...</td>\n",
       "      <td>...</td>\n",
       "      <td>...</td>\n",
       "      <td>...</td>\n",
       "      <td>...</td>\n",
       "    </tr>\n",
       "    <tr>\n",
       "      <th>5995</th>\n",
       "      <td>1594</td>\n",
       "      <td>Ekiti</td>\n",
       "      <td>Flat</td>\n",
       "      <td>4</td>\n",
       "      <td>5</td>\n",
       "      <td>2</td>\n",
       "    </tr>\n",
       "    <tr>\n",
       "      <th>5996</th>\n",
       "      <td>2416</td>\n",
       "      <td>Adamawa</td>\n",
       "      <td>Terrace duplex</td>\n",
       "      <td>5</td>\n",
       "      <td>7</td>\n",
       "      <td>1</td>\n",
       "    </tr>\n",
       "    <tr>\n",
       "      <th>5997</th>\n",
       "      <td>10195</td>\n",
       "      <td>Oyo</td>\n",
       "      <td>Townhouse</td>\n",
       "      <td>4</td>\n",
       "      <td>1</td>\n",
       "      <td>4</td>\n",
       "    </tr>\n",
       "    <tr>\n",
       "      <th>5998</th>\n",
       "      <td>9455</td>\n",
       "      <td>Bauchi</td>\n",
       "      <td>Flat</td>\n",
       "      <td>3</td>\n",
       "      <td>7</td>\n",
       "      <td>5</td>\n",
       "    </tr>\n",
       "    <tr>\n",
       "      <th>5999</th>\n",
       "      <td>11736</td>\n",
       "      <td>Sokoto</td>\n",
       "      <td>Mansion</td>\n",
       "      <td>6</td>\n",
       "      <td>1</td>\n",
       "      <td>6</td>\n",
       "    </tr>\n",
       "  </tbody>\n",
       "</table>\n",
       "<p>6000 rows × 6 columns</p>\n",
       "</div>"
      ],
      "text/plain": [
       "         ID      loc                 title  bedroom  bathroom  parking_space\n",
       "0       845     Kano             Penthouse        4         1              2\n",
       "1      1924  Adamawa             Apartment        2         2              4\n",
       "2     10718  Adamawa              Bungalow        2         7              2\n",
       "3     12076    Lagos               Mansion        9         5              2\n",
       "4     12254    Gombe  Semi-detached duplex        5         6              1\n",
       "...     ...      ...                   ...      ...       ...            ...\n",
       "5995   1594    Ekiti                  Flat        4         5              2\n",
       "5996   2416  Adamawa        Terrace duplex        5         7              1\n",
       "5997  10195      Oyo             Townhouse        4         1              4\n",
       "5998   9455   Bauchi                  Flat        3         7              5\n",
       "5999  11736   Sokoto               Mansion        6         1              6\n",
       "\n",
       "[6000 rows x 6 columns]"
      ]
     },
     "execution_count": 843,
     "metadata": {},
     "output_type": "execute_result"
    }
   ],
   "source": [
    "data2\n"
   ]
  },
  {
   "cell_type": "code",
   "execution_count": 845,
   "id": "1f5e207b",
   "metadata": {},
   "outputs": [],
   "source": [
    "#creating two new columns containing numerical data that corresponds to the loc and title column\n",
    "new_title = encod_title.transform(data2['title'])\n",
    "new_loc = encod_loc.transform(data2['loc'])"
   ]
  },
  {
   "cell_type": "code",
   "execution_count": 853,
   "id": "416593e9",
   "metadata": {},
   "outputs": [],
   "source": [
    "data2['num_loc'] = new_loc\n",
    "data2['num_title'] = new_title"
   ]
  },
  {
   "cell_type": "code",
   "execution_count": 854,
   "id": "bed51653",
   "metadata": {},
   "outputs": [
    {
     "data": {
      "text/html": [
       "<div>\n",
       "<style scoped>\n",
       "    .dataframe tbody tr th:only-of-type {\n",
       "        vertical-align: middle;\n",
       "    }\n",
       "\n",
       "    .dataframe tbody tr th {\n",
       "        vertical-align: top;\n",
       "    }\n",
       "\n",
       "    .dataframe thead th {\n",
       "        text-align: right;\n",
       "    }\n",
       "</style>\n",
       "<table border=\"1\" class=\"dataframe\">\n",
       "  <thead>\n",
       "    <tr style=\"text-align: right;\">\n",
       "      <th></th>\n",
       "      <th>bedroom</th>\n",
       "      <th>bathroom</th>\n",
       "      <th>parking_space</th>\n",
       "      <th>location</th>\n",
       "      <th>Title</th>\n",
       "      <th>num_loc</th>\n",
       "      <th>num_title</th>\n",
       "    </tr>\n",
       "  </thead>\n",
       "  <tbody>\n",
       "    <tr>\n",
       "      <th>0</th>\n",
       "      <td>4</td>\n",
       "      <td>1</td>\n",
       "      <td>2</td>\n",
       "      <td>18</td>\n",
       "      <td>6</td>\n",
       "      <td>18</td>\n",
       "      <td>6</td>\n",
       "    </tr>\n",
       "    <tr>\n",
       "      <th>1</th>\n",
       "      <td>2</td>\n",
       "      <td>2</td>\n",
       "      <td>4</td>\n",
       "      <td>1</td>\n",
       "      <td>0</td>\n",
       "      <td>1</td>\n",
       "      <td>0</td>\n",
       "    </tr>\n",
       "    <tr>\n",
       "      <th>2</th>\n",
       "      <td>2</td>\n",
       "      <td>7</td>\n",
       "      <td>2</td>\n",
       "      <td>1</td>\n",
       "      <td>1</td>\n",
       "      <td>1</td>\n",
       "      <td>1</td>\n",
       "    </tr>\n",
       "    <tr>\n",
       "      <th>3</th>\n",
       "      <td>9</td>\n",
       "      <td>5</td>\n",
       "      <td>2</td>\n",
       "      <td>23</td>\n",
       "      <td>5</td>\n",
       "      <td>23</td>\n",
       "      <td>5</td>\n",
       "    </tr>\n",
       "    <tr>\n",
       "      <th>4</th>\n",
       "      <td>5</td>\n",
       "      <td>6</td>\n",
       "      <td>1</td>\n",
       "      <td>14</td>\n",
       "      <td>7</td>\n",
       "      <td>14</td>\n",
       "      <td>7</td>\n",
       "    </tr>\n",
       "    <tr>\n",
       "      <th>...</th>\n",
       "      <td>...</td>\n",
       "      <td>...</td>\n",
       "      <td>...</td>\n",
       "      <td>...</td>\n",
       "      <td>...</td>\n",
       "      <td>...</td>\n",
       "      <td>...</td>\n",
       "    </tr>\n",
       "    <tr>\n",
       "      <th>5995</th>\n",
       "      <td>4</td>\n",
       "      <td>5</td>\n",
       "      <td>2</td>\n",
       "      <td>12</td>\n",
       "      <td>4</td>\n",
       "      <td>12</td>\n",
       "      <td>4</td>\n",
       "    </tr>\n",
       "    <tr>\n",
       "      <th>5996</th>\n",
       "      <td>5</td>\n",
       "      <td>7</td>\n",
       "      <td>1</td>\n",
       "      <td>1</td>\n",
       "      <td>8</td>\n",
       "      <td>1</td>\n",
       "      <td>8</td>\n",
       "    </tr>\n",
       "    <tr>\n",
       "      <th>5997</th>\n",
       "      <td>4</td>\n",
       "      <td>1</td>\n",
       "      <td>4</td>\n",
       "      <td>29</td>\n",
       "      <td>9</td>\n",
       "      <td>29</td>\n",
       "      <td>9</td>\n",
       "    </tr>\n",
       "    <tr>\n",
       "      <th>5998</th>\n",
       "      <td>3</td>\n",
       "      <td>7</td>\n",
       "      <td>5</td>\n",
       "      <td>4</td>\n",
       "      <td>4</td>\n",
       "      <td>4</td>\n",
       "      <td>4</td>\n",
       "    </tr>\n",
       "    <tr>\n",
       "      <th>5999</th>\n",
       "      <td>6</td>\n",
       "      <td>1</td>\n",
       "      <td>6</td>\n",
       "      <td>32</td>\n",
       "      <td>5</td>\n",
       "      <td>32</td>\n",
       "      <td>5</td>\n",
       "    </tr>\n",
       "  </tbody>\n",
       "</table>\n",
       "<p>6000 rows × 7 columns</p>\n",
       "</div>"
      ],
      "text/plain": [
       "      bedroom  bathroom  parking_space  location  Title  num_loc  num_title\n",
       "0           4         1              2        18      6       18          6\n",
       "1           2         2              4         1      0        1          0\n",
       "2           2         7              2         1      1        1          1\n",
       "3           9         5              2        23      5       23          5\n",
       "4           5         6              1        14      7       14          7\n",
       "...       ...       ...            ...       ...    ...      ...        ...\n",
       "5995        4         5              2        12      4       12          4\n",
       "5996        5         7              1         1      8        1          8\n",
       "5997        4         1              4        29      9       29          9\n",
       "5998        3         7              5         4      4        4          4\n",
       "5999        6         1              6        32      5       32          5\n",
       "\n",
       "[6000 rows x 7 columns]"
      ]
     },
     "execution_count": 854,
     "metadata": {},
     "output_type": "execute_result"
    }
   ],
   "source": [
    "data2"
   ]
  },
  {
   "cell_type": "code",
   "execution_count": 855,
   "id": "274dd42a",
   "metadata": {},
   "outputs": [],
   "source": [
    "data2.drop(['location','Title'],axis=1, inplace = True)"
   ]
  },
  {
   "cell_type": "code",
   "execution_count": null,
   "id": "75ed3771",
   "metadata": {},
   "outputs": [],
   "source": []
  },
  {
   "cell_type": "code",
   "execution_count": 856,
   "id": "1d4b8fc1",
   "metadata": {},
   "outputs": [
    {
     "data": {
      "text/html": [
       "<div>\n",
       "<style scoped>\n",
       "    .dataframe tbody tr th:only-of-type {\n",
       "        vertical-align: middle;\n",
       "    }\n",
       "\n",
       "    .dataframe tbody tr th {\n",
       "        vertical-align: top;\n",
       "    }\n",
       "\n",
       "    .dataframe thead th {\n",
       "        text-align: right;\n",
       "    }\n",
       "</style>\n",
       "<table border=\"1\" class=\"dataframe\">\n",
       "  <thead>\n",
       "    <tr style=\"text-align: right;\">\n",
       "      <th></th>\n",
       "      <th>bedroom</th>\n",
       "      <th>bathroom</th>\n",
       "      <th>parking_space</th>\n",
       "      <th>num_loc</th>\n",
       "      <th>num_title</th>\n",
       "    </tr>\n",
       "  </thead>\n",
       "  <tbody>\n",
       "    <tr>\n",
       "      <th>0</th>\n",
       "      <td>4</td>\n",
       "      <td>1</td>\n",
       "      <td>2</td>\n",
       "      <td>18</td>\n",
       "      <td>6</td>\n",
       "    </tr>\n",
       "    <tr>\n",
       "      <th>1</th>\n",
       "      <td>2</td>\n",
       "      <td>2</td>\n",
       "      <td>4</td>\n",
       "      <td>1</td>\n",
       "      <td>0</td>\n",
       "    </tr>\n",
       "    <tr>\n",
       "      <th>2</th>\n",
       "      <td>2</td>\n",
       "      <td>7</td>\n",
       "      <td>2</td>\n",
       "      <td>1</td>\n",
       "      <td>1</td>\n",
       "    </tr>\n",
       "    <tr>\n",
       "      <th>3</th>\n",
       "      <td>9</td>\n",
       "      <td>5</td>\n",
       "      <td>2</td>\n",
       "      <td>23</td>\n",
       "      <td>5</td>\n",
       "    </tr>\n",
       "    <tr>\n",
       "      <th>4</th>\n",
       "      <td>5</td>\n",
       "      <td>6</td>\n",
       "      <td>1</td>\n",
       "      <td>14</td>\n",
       "      <td>7</td>\n",
       "    </tr>\n",
       "    <tr>\n",
       "      <th>...</th>\n",
       "      <td>...</td>\n",
       "      <td>...</td>\n",
       "      <td>...</td>\n",
       "      <td>...</td>\n",
       "      <td>...</td>\n",
       "    </tr>\n",
       "    <tr>\n",
       "      <th>5995</th>\n",
       "      <td>4</td>\n",
       "      <td>5</td>\n",
       "      <td>2</td>\n",
       "      <td>12</td>\n",
       "      <td>4</td>\n",
       "    </tr>\n",
       "    <tr>\n",
       "      <th>5996</th>\n",
       "      <td>5</td>\n",
       "      <td>7</td>\n",
       "      <td>1</td>\n",
       "      <td>1</td>\n",
       "      <td>8</td>\n",
       "    </tr>\n",
       "    <tr>\n",
       "      <th>5997</th>\n",
       "      <td>4</td>\n",
       "      <td>1</td>\n",
       "      <td>4</td>\n",
       "      <td>29</td>\n",
       "      <td>9</td>\n",
       "    </tr>\n",
       "    <tr>\n",
       "      <th>5998</th>\n",
       "      <td>3</td>\n",
       "      <td>7</td>\n",
       "      <td>5</td>\n",
       "      <td>4</td>\n",
       "      <td>4</td>\n",
       "    </tr>\n",
       "    <tr>\n",
       "      <th>5999</th>\n",
       "      <td>6</td>\n",
       "      <td>1</td>\n",
       "      <td>6</td>\n",
       "      <td>32</td>\n",
       "      <td>5</td>\n",
       "    </tr>\n",
       "  </tbody>\n",
       "</table>\n",
       "<p>6000 rows × 5 columns</p>\n",
       "</div>"
      ],
      "text/plain": [
       "      bedroom  bathroom  parking_space  num_loc  num_title\n",
       "0           4         1              2       18          6\n",
       "1           2         2              4        1          0\n",
       "2           2         7              2        1          1\n",
       "3           9         5              2       23          5\n",
       "4           5         6              1       14          7\n",
       "...       ...       ...            ...      ...        ...\n",
       "5995        4         5              2       12          4\n",
       "5996        5         7              1        1          8\n",
       "5997        4         1              4       29          9\n",
       "5998        3         7              5        4          4\n",
       "5999        6         1              6       32          5\n",
       "\n",
       "[6000 rows x 5 columns]"
      ]
     },
     "execution_count": 856,
     "metadata": {},
     "output_type": "execute_result"
    }
   ],
   "source": [
    "data2"
   ]
  },
  {
   "cell_type": "code",
   "execution_count": 857,
   "id": "6d160605",
   "metadata": {},
   "outputs": [],
   "source": [
    "answers = lm.predict(data2)"
   ]
  },
  {
   "cell_type": "code",
   "execution_count": 861,
   "id": "74a13cd8",
   "metadata": {},
   "outputs": [],
   "source": [
    "test_data = pd.read_csv('Housing_dataset_test.csv')"
   ]
  },
  {
   "cell_type": "code",
   "execution_count": 863,
   "id": "1675e730",
   "metadata": {},
   "outputs": [],
   "source": [
    "test_data['Price'] =answers"
   ]
  },
  {
   "cell_type": "code",
   "execution_count": 865,
   "id": "c2752d40",
   "metadata": {},
   "outputs": [
    {
     "data": {
      "text/html": [
       "<div>\n",
       "<style scoped>\n",
       "    .dataframe tbody tr th:only-of-type {\n",
       "        vertical-align: middle;\n",
       "    }\n",
       "\n",
       "    .dataframe tbody tr th {\n",
       "        vertical-align: top;\n",
       "    }\n",
       "\n",
       "    .dataframe thead th {\n",
       "        text-align: right;\n",
       "    }\n",
       "</style>\n",
       "<table border=\"1\" class=\"dataframe\">\n",
       "  <thead>\n",
       "    <tr style=\"text-align: right;\">\n",
       "      <th></th>\n",
       "      <th>ID</th>\n",
       "      <th>loc</th>\n",
       "      <th>title</th>\n",
       "      <th>bedroom</th>\n",
       "      <th>bathroom</th>\n",
       "      <th>parking_space</th>\n",
       "      <th>Price</th>\n",
       "    </tr>\n",
       "  </thead>\n",
       "  <tbody>\n",
       "    <tr>\n",
       "      <th>0</th>\n",
       "      <td>845</td>\n",
       "      <td>Kano</td>\n",
       "      <td>Penthouse</td>\n",
       "      <td>4</td>\n",
       "      <td>1</td>\n",
       "      <td>2</td>\n",
       "      <td>1.825176e+06</td>\n",
       "    </tr>\n",
       "    <tr>\n",
       "      <th>1</th>\n",
       "      <td>1924</td>\n",
       "      <td>Adamawa</td>\n",
       "      <td>Apartment</td>\n",
       "      <td>2</td>\n",
       "      <td>2</td>\n",
       "      <td>4</td>\n",
       "      <td>1.364708e+06</td>\n",
       "    </tr>\n",
       "    <tr>\n",
       "      <th>2</th>\n",
       "      <td>10718</td>\n",
       "      <td>Adamawa</td>\n",
       "      <td>Bungalow</td>\n",
       "      <td>2</td>\n",
       "      <td>7</td>\n",
       "      <td>2</td>\n",
       "      <td>1.631319e+06</td>\n",
       "    </tr>\n",
       "    <tr>\n",
       "      <th>3</th>\n",
       "      <td>12076</td>\n",
       "      <td>Lagos</td>\n",
       "      <td>Mansion</td>\n",
       "      <td>9</td>\n",
       "      <td>5</td>\n",
       "      <td>2</td>\n",
       "      <td>2.947898e+06</td>\n",
       "    </tr>\n",
       "    <tr>\n",
       "      <th>4</th>\n",
       "      <td>12254</td>\n",
       "      <td>Gombe</td>\n",
       "      <td>Semi-detached duplex</td>\n",
       "      <td>5</td>\n",
       "      <td>6</td>\n",
       "      <td>1</td>\n",
       "      <td>2.329857e+06</td>\n",
       "    </tr>\n",
       "    <tr>\n",
       "      <th>...</th>\n",
       "      <td>...</td>\n",
       "      <td>...</td>\n",
       "      <td>...</td>\n",
       "      <td>...</td>\n",
       "      <td>...</td>\n",
       "      <td>...</td>\n",
       "      <td>...</td>\n",
       "    </tr>\n",
       "    <tr>\n",
       "      <th>5995</th>\n",
       "      <td>1594</td>\n",
       "      <td>Ekiti</td>\n",
       "      <td>Flat</td>\n",
       "      <td>4</td>\n",
       "      <td>5</td>\n",
       "      <td>2</td>\n",
       "      <td>1.990483e+06</td>\n",
       "    </tr>\n",
       "    <tr>\n",
       "      <th>5996</th>\n",
       "      <td>2416</td>\n",
       "      <td>Adamawa</td>\n",
       "      <td>Terrace duplex</td>\n",
       "      <td>5</td>\n",
       "      <td>7</td>\n",
       "      <td>1</td>\n",
       "      <td>2.475369e+06</td>\n",
       "    </tr>\n",
       "    <tr>\n",
       "      <th>5997</th>\n",
       "      <td>10195</td>\n",
       "      <td>Oyo</td>\n",
       "      <td>Townhouse</td>\n",
       "      <td>4</td>\n",
       "      <td>1</td>\n",
       "      <td>4</td>\n",
       "      <td>1.991514e+06</td>\n",
       "    </tr>\n",
       "    <tr>\n",
       "      <th>5998</th>\n",
       "      <td>9455</td>\n",
       "      <td>Bauchi</td>\n",
       "      <td>Flat</td>\n",
       "      <td>3</td>\n",
       "      <td>7</td>\n",
       "      <td>5</td>\n",
       "      <td>2.048906e+06</td>\n",
       "    </tr>\n",
       "    <tr>\n",
       "      <th>5999</th>\n",
       "      <td>11736</td>\n",
       "      <td>Sokoto</td>\n",
       "      <td>Mansion</td>\n",
       "      <td>6</td>\n",
       "      <td>1</td>\n",
       "      <td>6</td>\n",
       "      <td>2.254627e+06</td>\n",
       "    </tr>\n",
       "  </tbody>\n",
       "</table>\n",
       "<p>6000 rows × 7 columns</p>\n",
       "</div>"
      ],
      "text/plain": [
       "         ID      loc                 title  bedroom  bathroom  parking_space  \\\n",
       "0       845     Kano             Penthouse        4         1              2   \n",
       "1      1924  Adamawa             Apartment        2         2              4   \n",
       "2     10718  Adamawa              Bungalow        2         7              2   \n",
       "3     12076    Lagos               Mansion        9         5              2   \n",
       "4     12254    Gombe  Semi-detached duplex        5         6              1   \n",
       "...     ...      ...                   ...      ...       ...            ...   \n",
       "5995   1594    Ekiti                  Flat        4         5              2   \n",
       "5996   2416  Adamawa        Terrace duplex        5         7              1   \n",
       "5997  10195      Oyo             Townhouse        4         1              4   \n",
       "5998   9455   Bauchi                  Flat        3         7              5   \n",
       "5999  11736   Sokoto               Mansion        6         1              6   \n",
       "\n",
       "             Price  \n",
       "0     1.825176e+06  \n",
       "1     1.364708e+06  \n",
       "2     1.631319e+06  \n",
       "3     2.947898e+06  \n",
       "4     2.329857e+06  \n",
       "...            ...  \n",
       "5995  1.990483e+06  \n",
       "5996  2.475369e+06  \n",
       "5997  1.991514e+06  \n",
       "5998  2.048906e+06  \n",
       "5999  2.254627e+06  \n",
       "\n",
       "[6000 rows x 7 columns]"
      ]
     },
     "execution_count": 865,
     "metadata": {},
     "output_type": "execute_result"
    }
   ],
   "source": [
    "test_data"
   ]
  },
  {
   "cell_type": "code",
   "execution_count": 866,
   "id": "e2a504b9",
   "metadata": {},
   "outputs": [],
   "source": [
    "result_df = test_data[['ID','Price']]"
   ]
  },
  {
   "cell_type": "code",
   "execution_count": 868,
   "id": "98f66080",
   "metadata": {},
   "outputs": [
    {
     "data": {
      "text/html": [
       "<div>\n",
       "<style scoped>\n",
       "    .dataframe tbody tr th:only-of-type {\n",
       "        vertical-align: middle;\n",
       "    }\n",
       "\n",
       "    .dataframe tbody tr th {\n",
       "        vertical-align: top;\n",
       "    }\n",
       "\n",
       "    .dataframe thead th {\n",
       "        text-align: right;\n",
       "    }\n",
       "</style>\n",
       "<table border=\"1\" class=\"dataframe\">\n",
       "  <thead>\n",
       "    <tr style=\"text-align: right;\">\n",
       "      <th></th>\n",
       "      <th>ID</th>\n",
       "      <th>Price</th>\n",
       "    </tr>\n",
       "  </thead>\n",
       "  <tbody>\n",
       "    <tr>\n",
       "      <th>0</th>\n",
       "      <td>845</td>\n",
       "      <td>1.825176e+06</td>\n",
       "    </tr>\n",
       "    <tr>\n",
       "      <th>1</th>\n",
       "      <td>1924</td>\n",
       "      <td>1.364708e+06</td>\n",
       "    </tr>\n",
       "    <tr>\n",
       "      <th>2</th>\n",
       "      <td>10718</td>\n",
       "      <td>1.631319e+06</td>\n",
       "    </tr>\n",
       "    <tr>\n",
       "      <th>3</th>\n",
       "      <td>12076</td>\n",
       "      <td>2.947898e+06</td>\n",
       "    </tr>\n",
       "    <tr>\n",
       "      <th>4</th>\n",
       "      <td>12254</td>\n",
       "      <td>2.329857e+06</td>\n",
       "    </tr>\n",
       "  </tbody>\n",
       "</table>\n",
       "</div>"
      ],
      "text/plain": [
       "      ID         Price\n",
       "0    845  1.825176e+06\n",
       "1   1924  1.364708e+06\n",
       "2  10718  1.631319e+06\n",
       "3  12076  2.947898e+06\n",
       "4  12254  2.329857e+06"
      ]
     },
     "execution_count": 868,
     "metadata": {},
     "output_type": "execute_result"
    }
   ],
   "source": [
    "result_df.head()"
   ]
  },
  {
   "cell_type": "code",
   "execution_count": 869,
   "id": "cea545f1",
   "metadata": {},
   "outputs": [],
   "source": [
    "result_df.to_csv('Submission.csv')"
   ]
  },
  {
   "cell_type": "markdown",
   "id": "ddad704e",
   "metadata": {},
   "source": [
    "# Conclusion"
   ]
  },
  {
   "cell_type": "markdown",
   "id": "aeeacb33",
   "metadata": {},
   "source": [
    "The number on bedrooms and bathrooms are the major determinant in the value of house prices by the coefficients as seen below. In the above I expolre my data extensively adding new columns and changing my text data to numerical data in order to add to my dataset. "
   ]
  },
  {
   "cell_type": "code",
   "execution_count": 870,
   "id": "65eba604",
   "metadata": {},
   "outputs": [
    {
     "data": {
      "text/html": [
       "<div>\n",
       "<style scoped>\n",
       "    .dataframe tbody tr th:only-of-type {\n",
       "        vertical-align: middle;\n",
       "    }\n",
       "\n",
       "    .dataframe tbody tr th {\n",
       "        vertical-align: top;\n",
       "    }\n",
       "\n",
       "    .dataframe thead th {\n",
       "        text-align: right;\n",
       "    }\n",
       "</style>\n",
       "<table border=\"1\" class=\"dataframe\">\n",
       "  <thead>\n",
       "    <tr style=\"text-align: right;\">\n",
       "      <th></th>\n",
       "      <th>Coeff</th>\n",
       "    </tr>\n",
       "  </thead>\n",
       "  <tbody>\n",
       "    <tr>\n",
       "      <th>bedroom</th>\n",
       "      <td>189407.738221</td>\n",
       "    </tr>\n",
       "    <tr>\n",
       "      <th>bathroom</th>\n",
       "      <td>59049.150473</td>\n",
       "    </tr>\n",
       "    <tr>\n",
       "      <th>parking_space</th>\n",
       "      <td>34219.906706</td>\n",
       "    </tr>\n",
       "    <tr>\n",
       "      <th>num_loc</th>\n",
       "      <td>-3299.222133</td>\n",
       "    </tr>\n",
       "    <tr>\n",
       "      <th>num_title</th>\n",
       "      <td>44982.326527</td>\n",
       "    </tr>\n",
       "  </tbody>\n",
       "</table>\n",
       "</div>"
      ],
      "text/plain": [
       "                       Coeff\n",
       "bedroom        189407.738221\n",
       "bathroom        59049.150473\n",
       "parking_space   34219.906706\n",
       "num_loc         -3299.222133\n",
       "num_title       44982.326527"
      ]
     },
     "execution_count": 870,
     "metadata": {},
     "output_type": "execute_result"
    }
   ],
   "source": [
    "cdf"
   ]
  },
  {
   "cell_type": "code",
   "execution_count": null,
   "id": "6c1dae35",
   "metadata": {},
   "outputs": [],
   "source": []
  }
 ],
 "metadata": {
  "kernelspec": {
   "display_name": "Python 3 (ipykernel)",
   "language": "python",
   "name": "python3"
  },
  "language_info": {
   "codemirror_mode": {
    "name": "ipython",
    "version": 3
   },
   "file_extension": ".py",
   "mimetype": "text/x-python",
   "name": "python",
   "nbconvert_exporter": "python",
   "pygments_lexer": "ipython3",
   "version": "3.9.12"
  }
 },
 "nbformat": 4,
 "nbformat_minor": 5
}
